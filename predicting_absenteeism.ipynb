{
 "cells": [
  {
   "cell_type": "code",
   "execution_count": 317,
   "metadata": {},
   "outputs": [],
   "source": [
    "# Data Wrangling\n",
    "import pandas as pd\n",
    "import numpy as np\n",
    "\n",
    "# Plotting\n",
    "import matplotlib.pyplot as plt\n",
    "import seaborn as sns\n",
    "\n",
    "#Preprocessing\n",
    "from sklearn.preprocessing import scale\n",
    "from sklearn.preprocessing import LabelBinarizer \n",
    "## !pip install imblearn\n",
    "from imblearn.over_sampling import RandomOverSampler\n",
    "from imblearn.over_sampling import SMOTE\n",
    "\n",
    "# Modeling\n",
    "from sklearn.linear_model import LogisticRegression\n",
    "from sklearn.ensemble import RandomForestClassifier\n",
    "from sklearn.svm import SVC\n",
    "from sklearn.ensemble import ExtraTreesClassifier\n",
    "\n",
    "\n",
    "\n",
    "#Validation packages\n",
    "from sklearn.model_selection import KFold\n",
    "from sklearn.model_selection import cross_val_score\n",
    "from sklearn.model_selection import train_test_split\n",
    "from sklearn.model_selection import GridSearchCV\n",
    "\n",
    "\n",
    "# measurements\n",
    "from sklearn import metrics\n",
    "from sklearn.metrics import mean_squared_error\n",
    "from sklearn.metrics import roc_curve, auc\n",
    "from sklearn.metrics import plot_confusion_matrix\n",
    "from sklearn.inspection import permutation_importance\n",
    "from sklearn.metrics import precision_score, recall_score, confusion_matrix, classification_report, accuracy_score, f1_score\n",
    "\n",
    "#pycarat\n",
    "#from pycaret.classification import setup\n",
    "#from pycaret.classification import compare_models\n",
    "\n",
    "# others\n",
    "%matplotlib inline\n",
    "import warnings\n",
    "warnings.filterwarnings(\"ignore\")\n",
    "\n",
    "## change working diretory for data uploading if necessary\n",
    "## import os\n",
    "## os.chdir('/rawData')"
   ]
  },
  {
   "cell_type": "markdown",
   "metadata": {},
   "source": [
    "# Data Uploading and EDA"
   ]
  },
  {
   "cell_type": "code",
   "execution_count": 318,
   "metadata": {},
   "outputs": [],
   "source": [
    "#### https://www.kaggle.com/harriken/predict-employee-ausentism\n",
    "\n",
    "## available companies in the data set, i.e. company master\n",
    "comp_dict = pd.read_csv('company_dictionary.csv')\n",
    "\n",
    "## employee's votes on 'how are you today'. higher vote score, better \n",
    "votes = pd.read_csv('votes.csv')\n",
    "votes['voteDate'] = pd.to_datetime(votes['voteDate'], format = '%Y-%m-%d %H:%M')\n",
    "votes['year'] = votes['voteDate'].dt.year\n",
    "votes['month'] = votes['voteDate'].dt.month\n",
    "\n",
    "## \n",
    "last_part_exists = pd.read_csv('lastParticipationExists.csv')\n",
    "last_part_exists['lastParticipationDate'] =  pd.to_datetime(last_part_exists['lastParticipationDate'], format = '%m/%d/%y %H:%M')\n",
    "\n",
    "## time off records by employee\n",
    "emp_absen = pd.read_csv('employeeAbsenteeism.csv')\n",
    "emp_absen['from'] =  pd.to_datetime(emp_absen['from'], format = '%m/%d/%y %H:%M')\n",
    "emp_absen['to'] =  pd.to_datetime(emp_absen['to'], format = '%m/%d/%y %H:%M')\n",
    "emp_absen['num_days'] = (emp_absen['to'] - emp_absen['from']).dt.days\n",
    "emp_absen['month'] = emp_absen['from'].dt.month\n",
    "emp_absen['quarter'] = emp_absen['from'].dt.quarter\n",
    "\n",
    "## list of all comments with number of likes/dislikes and comment category\n",
    "comment_by_emp = pd.read_csv('comments_by_employees_in_anonymous_forum.csv')\n",
    "comment_by_emp['commentDate'] = pd.to_datetime(comment_by_emp['commentDate'], format = '%Y-%m-%d %H:%M')\n",
    "comment_by_emp['year'] = comment_by_emp['commentDate'].dt.year\n",
    "comment_by_emp['month'] = comment_by_emp['commentDate'].dt.month\n",
    "\n",
    "## employee's reactions toward the commnets\n",
    "comment_inter = pd.read_csv('commentInteractions.csv')\n",
    "comment_inter['actionDate'] = pd.to_datetime(comment_inter['actionDate'], format = '%Y-%m-%d %H:%M')\n",
    "comment_inter['year'] = comment_inter['actionDate'].dt.year\n",
    "comment_inter['month'] = comment_inter['actionDate'].dt.month"
   ]
  },
  {
   "cell_type": "code",
   "execution_count": 319,
   "metadata": {},
   "outputs": [
    {
     "name": "stdout",
     "output_type": "stream",
     "text": [
      "all Absenteeism happened within 1 year, which is 2018.\n",
      "there are 62 different absent employees out of total 106 records.\n"
     ]
    },
    {
     "data": {
      "image/png": "[encoded data removed]",
      "text/plain": [
       "<Figure size 864x360 with 2 Axes>"
      ]
     },
     "metadata": {
      "needs_background": "light"
     },
     "output_type": "display_data"
    },
    {
     "name": "stdout",
     "output_type": "stream",
     "text": [
      "The absence records show that employees took leave mainly in Jun, Aug and Oct 2018.\n",
      "The absence records do not make sense in real life situation. It seems like there was some data collection issue that only the 3 months records are collected.\n"
     ]
    }
   ],
   "source": [
    "#####################\n",
    "## Y - Absenteeism ##\n",
    "#####################\n",
    "\n",
    "print('all Absenteeism happened within %d year, which is %d.' % (emp_absen['from'].dt.year.nunique(), emp_absen['from'].dt.year.mode()))\n",
    "print('there are %d different absent employees out of total %d records.' % (emp_absen['employee'].nunique(), emp_absen['employee'].shape[0]))\n",
    "\n",
    "temp1 = emp_absen.groupby(['month'])['employee'].nunique().to_frame().reset_index()\n",
    "temp2 = emp_absen.groupby(['month'])['num_days'].mean().to_frame().reset_index()\n",
    "\n",
    "fig, (ax1, ax2) = plt.subplots(1, 2, figsize=(12,5))\n",
    "ax1.bar(temp1['month'].values, temp1['employee'].values)\n",
    "ax1.set_title('no. distinct absent employee by month')\n",
    "ax2.bar(temp2['month'].values, temp2['num_days'].values)\n",
    "ax2.set_title('avg absent days per employee by month')\n",
    "plt.show()\n",
    "\n",
    "print('The absence records show that employees took leave mainly in Jun, Aug and Oct 2018.')\n",
    "print('The absence records do not make sense in real life situation. It seems like there was some data collection issue that only the 3 months records are collected.')\n"
   ]
  },
  {
   "cell_type": "markdown",
   "metadata": {},
   "source": [
    "### some modeling ideas   \n",
    "1. since all absenteeism happened in 2018 (and the 3 months), shall we only consider 2018 (and one month ahead of those 3 months) records in other dataset?\n",
    "2. we may analysis by month by employee information and set some benchmarking (e.g the avg or median days of absence per employee) as absent and non absent?"
   ]
  },
  {
   "cell_type": "code",
   "execution_count": 320,
   "metadata": {},
   "outputs": [
    {
     "name": "stdout",
     "output_type": "stream",
     "text": [
      "most of the absence reasons are common sickness. however, workplace accident seems to be significantly high in Oct\n"
     ]
    },
    {
     "data": {
      "text/html": [
       "<div>\n",
       "<style scoped>\n",
       "    .dataframe tbody tr th:only-of-type {\n",
       "        vertical-align: middle;\n",
       "    }\n",
       "\n",
       "    .dataframe tbody tr th {\n",
       "        vertical-align: top;\n",
       "    }\n",
       "\n",
       "    .dataframe thead th {\n",
       "        text-align: right;\n",
       "    }\n",
       "</style>\n",
       "<table border=\"1\" class=\"dataframe\">\n",
       "  <thead>\n",
       "    <tr style=\"text-align: right;\">\n",
       "      <th>reason</th>\n",
       "      <th>month</th>\n",
       "      <th>Common sickness  or accident not related to the job</th>\n",
       "      <th>Long term sick leave</th>\n",
       "      <th>Non job related sickness</th>\n",
       "      <th>Workplace accident</th>\n",
       "    </tr>\n",
       "  </thead>\n",
       "  <tbody>\n",
       "    <tr>\n",
       "      <th>0</th>\n",
       "      <td>6</td>\n",
       "      <td>551.0</td>\n",
       "      <td>29.0</td>\n",
       "      <td>29.0</td>\n",
       "      <td>6.0</td>\n",
       "    </tr>\n",
       "    <tr>\n",
       "      <th>1</th>\n",
       "      <td>8</td>\n",
       "      <td>471.0</td>\n",
       "      <td>60.0</td>\n",
       "      <td>NaN</td>\n",
       "      <td>7.0</td>\n",
       "    </tr>\n",
       "    <tr>\n",
       "      <th>2</th>\n",
       "      <td>10</td>\n",
       "      <td>409.0</td>\n",
       "      <td>57.0</td>\n",
       "      <td>NaN</td>\n",
       "      <td>55.0</td>\n",
       "    </tr>\n",
       "  </tbody>\n",
       "</table>\n",
       "</div>"
      ],
      "text/plain": [
       "reason  month  Common sickness  or accident not related to the job  \\\n",
       "0           6                                              551.0     \n",
       "1           8                                              471.0     \n",
       "2          10                                              409.0     \n",
       "\n",
       "reason  Long term sick leave  Non job related sickness  Workplace accident  \n",
       "0                       29.0                      29.0                 6.0  \n",
       "1                       60.0                       NaN                 7.0  \n",
       "2                       57.0                       NaN                55.0  "
      ]
     },
     "execution_count": 320,
     "metadata": {},
     "output_type": "execute_result"
    }
   ],
   "source": [
    "print('most of the absence reasons are common sickness. however, workplace accident seems to be significantly high in Oct')\n",
    "pd.pivot_table(emp_absen, values = 'num_days', index = 'month', columns = 'reason', aggfunc = np.sum).reset_index()"
   ]
  },
  {
   "cell_type": "code",
   "execution_count": 321,
   "metadata": {},
   "outputs": [
    {
     "data": {
      "image/png": "[encoded data removed]",
      "text/plain": [
       "<Figure size 1080x360 with 3 Axes>"
      ]
     },
     "metadata": {
      "needs_background": "light"
     },
     "output_type": "display_data"
    },
    {
     "name": "stdout",
     "output_type": "stream",
     "text": [
      "The graphs look pretty reasonable if we assume only Jun, Aug and Oct absence records were collected successfully.\n",
      "So in order to build a sound forecasting model, we can use the employee activities in May, Jul and Sept to learn their absenteeism in Jun, Aug and Oct respectively.\n"
     ]
    }
   ],
   "source": [
    "temp3 = emp_absen[emp_absen['month'] == 6]\n",
    "temp4 = emp_absen[emp_absen['month'] == 8]\n",
    "temp5 = emp_absen[emp_absen['month'] == 10]\n",
    "\n",
    "fig, (ax1, ax2, ax3) = plt.subplots(1, 3, figsize=(15,5))\n",
    "ax1.hist(temp3['num_days'].values, bins = 30)\n",
    "ax1.set_title('Distribution of no. absence days in Jun')\n",
    "ax2.hist(temp4['num_days'].values, bins = 30)\n",
    "ax2.set_title('Distribution of no. absence days in Aug')\n",
    "ax3.hist(temp5['num_days'].values, bins = 30)\n",
    "ax3.set_title('Distribution of no. absence days in Oct')\n",
    "plt.show()\n",
    "\n",
    "print('The graphs look pretty reasonable if we assume only Jun, Aug and Oct absence records were collected successfully.')\n",
    "print('So in order to build a sound forecasting model, we can use the employee activities in May, Jul and Sept to learn their absenteeism in Jun, Aug and Oct respectively.')"
   ]
  },
  {
   "cell_type": "code",
   "execution_count": 322,
   "metadata": {},
   "outputs": [
    {
     "data": {
      "text/html": [
       "<div>\n",
       "<style scoped>\n",
       "    .dataframe tbody tr th:only-of-type {\n",
       "        vertical-align: middle;\n",
       "    }\n",
       "\n",
       "    .dataframe tbody tr th {\n",
       "        vertical-align: top;\n",
       "    }\n",
       "\n",
       "    .dataframe thead th {\n",
       "        text-align: right;\n",
       "    }\n",
       "</style>\n",
       "<table border=\"1\" class=\"dataframe\">\n",
       "  <thead>\n",
       "    <tr style=\"text-align: right;\">\n",
       "      <th></th>\n",
       "      <th>employee</th>\n",
       "      <th>month</th>\n",
       "      <th>Absence</th>\n",
       "    </tr>\n",
       "  </thead>\n",
       "  <tbody>\n",
       "    <tr>\n",
       "      <th>0</th>\n",
       "      <td>19Q</td>\n",
       "      <td>10</td>\n",
       "      <td>True</td>\n",
       "    </tr>\n",
       "    <tr>\n",
       "      <th>1</th>\n",
       "      <td>NY3</td>\n",
       "      <td>10</td>\n",
       "      <td>True</td>\n",
       "    </tr>\n",
       "    <tr>\n",
       "      <th>2</th>\n",
       "      <td>qKO</td>\n",
       "      <td>10</td>\n",
       "      <td>True</td>\n",
       "    </tr>\n",
       "    <tr>\n",
       "      <th>3</th>\n",
       "      <td>qKO</td>\n",
       "      <td>10</td>\n",
       "      <td>True</td>\n",
       "    </tr>\n",
       "    <tr>\n",
       "      <th>4</th>\n",
       "      <td>2wx</td>\n",
       "      <td>10</td>\n",
       "      <td>True</td>\n",
       "    </tr>\n",
       "  </tbody>\n",
       "</table>\n",
       "</div>"
      ],
      "text/plain": [
       "  employee  month  Absence\n",
       "0      19Q     10     True\n",
       "1      NY3     10     True\n",
       "2      qKO     10     True\n",
       "3      qKO     10     True\n",
       "4      2wx     10     True"
      ]
     },
     "execution_count": 322,
     "metadata": {},
     "output_type": "execute_result"
    }
   ],
   "source": [
    "# convert the dataframe into a proper Y-like dataframe, i.e. employee id - month - label\n",
    "Y_temp = pd.merge(emp_absen, temp2.rename(columns = {'num_days': 'ave_days'}), how = 'left')\n",
    "Y_temp['Absence'] = Y_temp['num_days'] > 2 # Y_temp['ave_days']    ## open to change the benchmarking here ##\n",
    "Y = Y_temp[['employee', 'month', 'Absence']]\n",
    "Y.head()"
   ]
  },
  {
   "cell_type": "code",
   "execution_count": 323,
   "metadata": {},
   "outputs": [
    {
     "data": {
      "text/html": [
       "<div>\n",
       "<style scoped>\n",
       "    .dataframe tbody tr th:only-of-type {\n",
       "        vertical-align: middle;\n",
       "    }\n",
       "\n",
       "    .dataframe tbody tr th {\n",
       "        vertical-align: top;\n",
       "    }\n",
       "\n",
       "    .dataframe thead th {\n",
       "        text-align: right;\n",
       "    }\n",
       "</style>\n",
       "<table border=\"1\" class=\"dataframe\">\n",
       "  <thead>\n",
       "    <tr style=\"text-align: right;\">\n",
       "      <th></th>\n",
       "      <th>employee</th>\n",
       "      <th>month</th>\n",
       "      <th>mean_votes_score</th>\n",
       "      <th>no_of_votes</th>\n",
       "    </tr>\n",
       "  </thead>\n",
       "  <tbody>\n",
       "    <tr>\n",
       "      <th>0</th>\n",
       "      <td>13L</td>\n",
       "      <td>6</td>\n",
       "      <td>1.0</td>\n",
       "      <td>25</td>\n",
       "    </tr>\n",
       "    <tr>\n",
       "      <th>1</th>\n",
       "      <td>13L</td>\n",
       "      <td>8</td>\n",
       "      <td>1.0</td>\n",
       "      <td>19</td>\n",
       "    </tr>\n",
       "    <tr>\n",
       "      <th>2</th>\n",
       "      <td>13L</td>\n",
       "      <td>10</td>\n",
       "      <td>1.0</td>\n",
       "      <td>22</td>\n",
       "    </tr>\n",
       "    <tr>\n",
       "      <th>3</th>\n",
       "      <td>17r</td>\n",
       "      <td>6</td>\n",
       "      <td>3.0</td>\n",
       "      <td>1</td>\n",
       "    </tr>\n",
       "    <tr>\n",
       "      <th>4</th>\n",
       "      <td>17r</td>\n",
       "      <td>8</td>\n",
       "      <td>2.0</td>\n",
       "      <td>27</td>\n",
       "    </tr>\n",
       "  </tbody>\n",
       "</table>\n",
       "</div>"
      ],
      "text/plain": [
       "  employee  month  mean_votes_score  no_of_votes\n",
       "0      13L      6               1.0           25\n",
       "1      13L      8               1.0           19\n",
       "2      13L     10               1.0           22\n",
       "3      17r      6               3.0            1\n",
       "4      17r      8               2.0           27"
      ]
     },
     "execution_count": 323,
     "metadata": {},
     "output_type": "execute_result"
    }
   ],
   "source": [
    "###############\n",
    "## X - Votes ##\n",
    "###############\n",
    "votes_X = votes[votes['year'] == 2018]\n",
    "votes_X = votes_X[votes_X['month'].isin([5,7,9])].reset_index(drop = True)\n",
    "votes_X = votes_X.groupby(['employee', 'month'])['vote'].agg(['mean', 'count']).reset_index()\n",
    "votes_X.columns = ['employee', 'month', 'mean_votes_score', 'no_of_votes']\n",
    "votes_X['month'] = votes_X['month'] + 1\n",
    "votes_X.head()"
   ]
  },
  {
   "cell_type": "code",
   "execution_count": 324,
   "metadata": {},
   "outputs": [
    {
     "data": {
      "text/html": [
       "<div>\n",
       "<style scoped>\n",
       "    .dataframe tbody tr th:only-of-type {\n",
       "        vertical-align: middle;\n",
       "    }\n",
       "\n",
       "    .dataframe tbody tr th {\n",
       "        vertical-align: top;\n",
       "    }\n",
       "\n",
       "    .dataframe thead th {\n",
       "        text-align: right;\n",
       "    }\n",
       "</style>\n",
       "<table border=\"1\" class=\"dataframe\">\n",
       "  <thead>\n",
       "    <tr style=\"text-align: right;\">\n",
       "      <th></th>\n",
       "      <th>employee</th>\n",
       "      <th>month</th>\n",
       "      <th>congrats_num</th>\n",
       "      <th>criticism_num</th>\n",
       "      <th>information_num</th>\n",
       "      <th>other_num</th>\n",
       "      <th>suggestion_num</th>\n",
       "      <th>total_likes</th>\n",
       "      <th>total_dislikes</th>\n",
       "    </tr>\n",
       "  </thead>\n",
       "  <tbody>\n",
       "    <tr>\n",
       "      <th>0</th>\n",
       "      <td>19Q</td>\n",
       "      <td>6</td>\n",
       "      <td>1.0</td>\n",
       "      <td>0.0</td>\n",
       "      <td>0.0</td>\n",
       "      <td>0.0</td>\n",
       "      <td>0.0</td>\n",
       "      <td>32</td>\n",
       "      <td>7</td>\n",
       "    </tr>\n",
       "    <tr>\n",
       "      <th>1</th>\n",
       "      <td>19Q</td>\n",
       "      <td>8</td>\n",
       "      <td>0.0</td>\n",
       "      <td>0.0</td>\n",
       "      <td>2.0</td>\n",
       "      <td>0.0</td>\n",
       "      <td>0.0</td>\n",
       "      <td>47</td>\n",
       "      <td>8</td>\n",
       "    </tr>\n",
       "    <tr>\n",
       "      <th>2</th>\n",
       "      <td>19Q</td>\n",
       "      <td>10</td>\n",
       "      <td>0.0</td>\n",
       "      <td>0.0</td>\n",
       "      <td>1.0</td>\n",
       "      <td>4.0</td>\n",
       "      <td>0.0</td>\n",
       "      <td>27</td>\n",
       "      <td>6</td>\n",
       "    </tr>\n",
       "    <tr>\n",
       "      <th>3</th>\n",
       "      <td>1EY</td>\n",
       "      <td>10</td>\n",
       "      <td>0.0</td>\n",
       "      <td>0.0</td>\n",
       "      <td>0.0</td>\n",
       "      <td>2.0</td>\n",
       "      <td>0.0</td>\n",
       "      <td>0</td>\n",
       "      <td>0</td>\n",
       "    </tr>\n",
       "    <tr>\n",
       "      <th>4</th>\n",
       "      <td>1YL</td>\n",
       "      <td>10</td>\n",
       "      <td>0.0</td>\n",
       "      <td>0.0</td>\n",
       "      <td>0.0</td>\n",
       "      <td>1.0</td>\n",
       "      <td>0.0</td>\n",
       "      <td>0</td>\n",
       "      <td>0</td>\n",
       "    </tr>\n",
       "  </tbody>\n",
       "</table>\n",
       "</div>"
      ],
      "text/plain": [
       "  employee  month  congrats_num  criticism_num  information_num  other_num  \\\n",
       "0      19Q      6           1.0            0.0              0.0        0.0   \n",
       "1      19Q      8           0.0            0.0              2.0        0.0   \n",
       "2      19Q     10           0.0            0.0              1.0        4.0   \n",
       "3      1EY     10           0.0            0.0              0.0        2.0   \n",
       "4      1YL     10           0.0            0.0              0.0        1.0   \n",
       "\n",
       "   suggestion_num  total_likes  total_dislikes  \n",
       "0             0.0           32               7  \n",
       "1             0.0           47               8  \n",
       "2             0.0           27               6  \n",
       "3             0.0            0               0  \n",
       "4             0.0            0               0  "
      ]
     },
     "execution_count": 324,
     "metadata": {},
     "output_type": "execute_result"
    }
   ],
   "source": [
    "########################### \n",
    "## X - Original Comments ##\n",
    "###########################\n",
    "comment_X = comment_by_emp[comment_by_emp['year'] == 2018]\n",
    "comment_X = comment_X[comment_X['month'].isin([5,7,9])].reset_index(drop = True)\n",
    "comment_X['counter'] = 1\n",
    "\n",
    "comment_temp_X_1 = pd.pivot_table(comment_X, values = 'counter', index = ['employee', 'month'], columns = 'feedbackType', aggfunc = np.sum).reset_index().fillna(0)\n",
    "comment_temp_X_2 = comment_X.groupby(['employee', 'month'])['likes', 'dislikes'].sum().reset_index()\n",
    "commnet_X = pd.merge(comment_temp_X_1, comment_temp_X_2, how = 'left')\n",
    "commnet_X.columns = ['employee', 'month', 'congrats_num', 'criticism_num', 'information_num', 'other_num', 'suggestion_num', 'total_likes', 'total_dislikes']\n",
    "commnet_X['month'] = commnet_X['month'] + 1\n",
    "commnet_X.head()"
   ]
  },
  {
   "cell_type": "code",
   "execution_count": 325,
   "metadata": {},
   "outputs": [
    {
     "data": {
      "text/html": [
       "<div>\n",
       "<style scoped>\n",
       "    .dataframe tbody tr th:only-of-type {\n",
       "        vertical-align: middle;\n",
       "    }\n",
       "\n",
       "    .dataframe tbody tr th {\n",
       "        vertical-align: top;\n",
       "    }\n",
       "\n",
       "    .dataframe thead th {\n",
       "        text-align: right;\n",
       "    }\n",
       "</style>\n",
       "<table border=\"1\" class=\"dataframe\">\n",
       "  <thead>\n",
       "    <tr style=\"text-align: right;\">\n",
       "      <th></th>\n",
       "      <th>employee</th>\n",
       "      <th>month</th>\n",
       "      <th>congrats_agree_num</th>\n",
       "      <th>information_agree_num</th>\n",
       "      <th>other_agree_num</th>\n",
       "      <th>suggestion_agree_num</th>\n",
       "      <th>congrats_disagree_num</th>\n",
       "      <th>information_disagree_num</th>\n",
       "      <th>other_disagree_num</th>\n",
       "      <th>suggestion_disagree_num</th>\n",
       "    </tr>\n",
       "  </thead>\n",
       "  <tbody>\n",
       "    <tr>\n",
       "      <th>0</th>\n",
       "      <td>13L</td>\n",
       "      <td>6</td>\n",
       "      <td>7.0</td>\n",
       "      <td>28.0</td>\n",
       "      <td>0.0</td>\n",
       "      <td>0.0</td>\n",
       "      <td>1.0</td>\n",
       "      <td>1.0</td>\n",
       "      <td>1.0</td>\n",
       "      <td>1.0</td>\n",
       "    </tr>\n",
       "    <tr>\n",
       "      <th>1</th>\n",
       "      <td>13L</td>\n",
       "      <td>8</td>\n",
       "      <td>1.0</td>\n",
       "      <td>4.0</td>\n",
       "      <td>1.0</td>\n",
       "      <td>1.0</td>\n",
       "      <td>0.0</td>\n",
       "      <td>1.0</td>\n",
       "      <td>0.0</td>\n",
       "      <td>0.0</td>\n",
       "    </tr>\n",
       "    <tr>\n",
       "      <th>2</th>\n",
       "      <td>13L</td>\n",
       "      <td>10</td>\n",
       "      <td>0.0</td>\n",
       "      <td>23.0</td>\n",
       "      <td>0.0</td>\n",
       "      <td>0.0</td>\n",
       "      <td>1.0</td>\n",
       "      <td>0.0</td>\n",
       "      <td>0.0</td>\n",
       "      <td>0.0</td>\n",
       "    </tr>\n",
       "    <tr>\n",
       "      <th>3</th>\n",
       "      <td>17r</td>\n",
       "      <td>8</td>\n",
       "      <td>0.0</td>\n",
       "      <td>1.0</td>\n",
       "      <td>0.0</td>\n",
       "      <td>0.0</td>\n",
       "      <td>0.0</td>\n",
       "      <td>0.0</td>\n",
       "      <td>0.0</td>\n",
       "      <td>0.0</td>\n",
       "    </tr>\n",
       "    <tr>\n",
       "      <th>4</th>\n",
       "      <td>17r</td>\n",
       "      <td>10</td>\n",
       "      <td>0.0</td>\n",
       "      <td>1.0</td>\n",
       "      <td>0.0</td>\n",
       "      <td>0.0</td>\n",
       "      <td>0.0</td>\n",
       "      <td>0.0</td>\n",
       "      <td>0.0</td>\n",
       "      <td>0.0</td>\n",
       "    </tr>\n",
       "  </tbody>\n",
       "</table>\n",
       "</div>"
      ],
      "text/plain": [
       "  employee  month  congrats_agree_num  information_agree_num  other_agree_num  \\\n",
       "0      13L      6                 7.0                   28.0              0.0   \n",
       "1      13L      8                 1.0                    4.0              1.0   \n",
       "2      13L     10                 0.0                   23.0              0.0   \n",
       "3      17r      8                 0.0                    1.0              0.0   \n",
       "4      17r     10                 0.0                    1.0              0.0   \n",
       "\n",
       "   suggestion_agree_num  congrats_disagree_num  information_disagree_num  \\\n",
       "0                   0.0                    1.0                       1.0   \n",
       "1                   1.0                    0.0                       1.0   \n",
       "2                   0.0                    1.0                       0.0   \n",
       "3                   0.0                    0.0                       0.0   \n",
       "4                   0.0                    0.0                       0.0   \n",
       "\n",
       "   other_disagree_num  suggestion_disagree_num  \n",
       "0                 1.0                      1.0  \n",
       "1                 0.0                      0.0  \n",
       "2                 0.0                      0.0  \n",
       "3                 0.0                      0.0  \n",
       "4                 0.0                      0.0  "
      ]
     },
     "execution_count": 325,
     "metadata": {},
     "output_type": "execute_result"
    }
   ],
   "source": [
    "############################## \n",
    "## X - Comments Interaction ##\n",
    "##############################\n",
    "inter_X = comment_inter[comment_inter['year'] == 2018]\n",
    "inter_X = inter_X[inter_X['month'].isin([5,7,9])].reset_index(drop = True)\n",
    "inter_temp_X = pd.merge(inter_X, comment_by_emp[['commentId', 'feedbackType']], how = 'left')\n",
    "inter_temp_X['Agree'] = [1 if i == 1 else 0 for i in inter_temp_X['interaction']]\n",
    "inter_temp_X['Disagree'] = [1 if i == -1 else 0 for i in inter_temp_X['interaction']]\n",
    "\n",
    "inter_X1 = pd.pivot_table(inter_temp_X, values = 'Agree', index = ['employee', 'month'], columns = 'feedbackType', aggfunc = np.sum).reset_index().fillna(0)\n",
    "inter_X1.columns = ['employee', 'month', 'congrats_agree_num', 'information_agree_num', 'other_agree_num', 'suggestion_agree_num']\n",
    "inter_X2 = pd.pivot_table(inter_temp_X, values = 'Disagree', index = ['employee', 'month'], columns = 'feedbackType', aggfunc = np.sum).reset_index().fillna(0)\n",
    "inter_X2.columns = ['employee', 'month', 'congrats_disagree_num', 'information_disagree_num', 'other_disagree_num', 'suggestion_disagree_num']\n",
    "\n",
    "inter_X = pd.merge(inter_X1, inter_X2, how = 'left')\n",
    "inter_X['month'] = inter_X['month'] + 1\n",
    "\n",
    "inter_X.head()"
   ]
  },
  {
   "cell_type": "code",
   "execution_count": 326,
   "metadata": {},
   "outputs": [
    {
     "data": {
      "text/html": [
       "<div>\n",
       "<style scoped>\n",
       "    .dataframe tbody tr th:only-of-type {\n",
       "        vertical-align: middle;\n",
       "    }\n",
       "\n",
       "    .dataframe tbody tr th {\n",
       "        vertical-align: top;\n",
       "    }\n",
       "\n",
       "    .dataframe thead th {\n",
       "        text-align: right;\n",
       "    }\n",
       "</style>\n",
       "<table border=\"1\" class=\"dataframe\">\n",
       "  <thead>\n",
       "    <tr style=\"text-align: right;\">\n",
       "      <th></th>\n",
       "      <th>employee</th>\n",
       "      <th>companyAlias</th>\n",
       "      <th>numVotes</th>\n",
       "      <th>lastParticipationDate</th>\n",
       "      <th>timezone</th>\n",
       "      <th>stillExists</th>\n",
       "      <th>deletedOn</th>\n",
       "      <th>Ceuta</th>\n",
       "      <th>chicago</th>\n",
       "      <th>amsterdam</th>\n",
       "      <th>berlin</th>\n",
       "      <th>madrid</th>\n",
       "      <th>moscow</th>\n",
       "    </tr>\n",
       "  </thead>\n",
       "  <tbody>\n",
       "    <tr>\n",
       "      <th>0</th>\n",
       "      <td>l8</td>\n",
       "      <td>C1</td>\n",
       "      <td>285</td>\n",
       "      <td>2019-03-08 01:03:00</td>\n",
       "      <td>Europe/Madrid</td>\n",
       "      <td>True</td>\n",
       "      <td>NaN</td>\n",
       "      <td>0</td>\n",
       "      <td>0</td>\n",
       "      <td>0</td>\n",
       "      <td>0</td>\n",
       "      <td>1</td>\n",
       "      <td>0</td>\n",
       "    </tr>\n",
       "    <tr>\n",
       "      <th>1</th>\n",
       "      <td>Xv</td>\n",
       "      <td>C1</td>\n",
       "      <td>143</td>\n",
       "      <td>2018-04-21 02:04:00</td>\n",
       "      <td>Europe/Berlin</td>\n",
       "      <td>True</td>\n",
       "      <td>NaN</td>\n",
       "      <td>0</td>\n",
       "      <td>0</td>\n",
       "      <td>0</td>\n",
       "      <td>1</td>\n",
       "      <td>0</td>\n",
       "      <td>0</td>\n",
       "    </tr>\n",
       "    <tr>\n",
       "      <th>2</th>\n",
       "      <td>w7</td>\n",
       "      <td>C1</td>\n",
       "      <td>381</td>\n",
       "      <td>2019-03-11 01:03:00</td>\n",
       "      <td>Europe/Madrid</td>\n",
       "      <td>True</td>\n",
       "      <td>NaN</td>\n",
       "      <td>0</td>\n",
       "      <td>0</td>\n",
       "      <td>0</td>\n",
       "      <td>0</td>\n",
       "      <td>1</td>\n",
       "      <td>0</td>\n",
       "    </tr>\n",
       "    <tr>\n",
       "      <th>3</th>\n",
       "      <td>jE</td>\n",
       "      <td>C1</td>\n",
       "      <td>173</td>\n",
       "      <td>2019-03-01 01:03:00</td>\n",
       "      <td>Europe/Madrid</td>\n",
       "      <td>True</td>\n",
       "      <td>NaN</td>\n",
       "      <td>0</td>\n",
       "      <td>0</td>\n",
       "      <td>0</td>\n",
       "      <td>0</td>\n",
       "      <td>1</td>\n",
       "      <td>0</td>\n",
       "    </tr>\n",
       "    <tr>\n",
       "      <th>4</th>\n",
       "      <td>QP</td>\n",
       "      <td>C1</td>\n",
       "      <td>312</td>\n",
       "      <td>2019-03-08 01:03:00</td>\n",
       "      <td>Europe/Berlin</td>\n",
       "      <td>True</td>\n",
       "      <td>NaN</td>\n",
       "      <td>0</td>\n",
       "      <td>0</td>\n",
       "      <td>0</td>\n",
       "      <td>1</td>\n",
       "      <td>0</td>\n",
       "      <td>0</td>\n",
       "    </tr>\n",
       "  </tbody>\n",
       "</table>\n",
       "</div>"
      ],
      "text/plain": [
       "  employee companyAlias  numVotes lastParticipationDate       timezone  \\\n",
       "0       l8           C1       285   2019-03-08 01:03:00  Europe/Madrid   \n",
       "1       Xv           C1       143   2018-04-21 02:04:00  Europe/Berlin   \n",
       "2       w7           C1       381   2019-03-11 01:03:00  Europe/Madrid   \n",
       "3       jE           C1       173   2019-03-01 01:03:00  Europe/Madrid   \n",
       "4       QP           C1       312   2019-03-08 01:03:00  Europe/Berlin   \n",
       "\n",
       "   stillExists deletedOn  Ceuta  chicago  amsterdam  berlin  madrid  moscow  \n",
       "0         True       NaN      0        0          0       0       1       0  \n",
       "1         True       NaN      0        0          0       1       0       0  \n",
       "2         True       NaN      0        0          0       0       1       0  \n",
       "3         True       NaN      0        0          0       0       1       0  \n",
       "4         True       NaN      0        0          0       1       0       0  "
      ]
     },
     "execution_count": 326,
     "metadata": {},
     "output_type": "execute_result"
    }
   ],
   "source": [
    "################################# \n",
    "## X - lastParticipationExists ##\n",
    "################################# \n",
    "\n",
    "lastParticipationExists_v2 = last_part_exists.copy()\n",
    "lastParticipationExists_v2['Ceuta'] = lastParticipationExists_v2['timezone'] == 'Africa/Ceuta'\n",
    "lastParticipationExists_v2['Ceuta'] = lastParticipationExists_v2['Ceuta'].astype(int)\n",
    "lastParticipationExists_v2['chicago'] = lastParticipationExists_v2['timezone'] == 'America/Chicago'\n",
    "lastParticipationExists_v2['chicago'] = lastParticipationExists_v2['chicago'].astype(int)\n",
    "lastParticipationExists_v2['amsterdam'] = lastParticipationExists_v2['timezone'] == 'Europe/Amsterdam'\n",
    "lastParticipationExists_v2['amsterdam'] = lastParticipationExists_v2['amsterdam'].astype(int)\n",
    "lastParticipationExists_v2['berlin'] = lastParticipationExists_v2['timezone'] == 'Europe/Berlin'\n",
    "lastParticipationExists_v2['berlin'] = lastParticipationExists_v2['berlin'].astype(int)\n",
    "lastParticipationExists_v2['madrid'] = lastParticipationExists_v2['timezone'] == 'Europe/Madrid'\n",
    "lastParticipationExists_v2['madrid'] = lastParticipationExists_v2['madrid'].astype(int)\n",
    "lastParticipationExists_v2['moscow'] = lastParticipationExists_v2['timezone'] == 'Europe/Moscow'\n",
    "lastParticipationExists_v2['moscow'] = lastParticipationExists_v2['moscow'].astype(int)\n",
    "lastParticipationExists_v2.head()"
   ]
  },
  {
   "cell_type": "code",
   "execution_count": 327,
   "metadata": {},
   "outputs": [
    {
     "name": "stdout",
     "output_type": "stream",
     "text": [
      "Latest participated:  2019-03-11 01:03:00\n",
      "First participated:  2017-05-06 02:05:00\n"
     ]
    }
   ],
   "source": [
    "print('Latest participated: ', max(lastParticipationExists_v2['lastParticipationDate']))\n",
    "print('First participated: ', min(lastParticipationExists_v2['lastParticipationDate']))"
   ]
  },
  {
   "cell_type": "code",
   "execution_count": 328,
   "metadata": {},
   "outputs": [
    {
     "data": {
      "text/html": [
       "<div>\n",
       "<style scoped>\n",
       "    .dataframe tbody tr th:only-of-type {\n",
       "        vertical-align: middle;\n",
       "    }\n",
       "\n",
       "    .dataframe tbody tr th {\n",
       "        vertical-align: top;\n",
       "    }\n",
       "\n",
       "    .dataframe thead th {\n",
       "        text-align: right;\n",
       "    }\n",
       "</style>\n",
       "<table border=\"1\" class=\"dataframe\">\n",
       "  <thead>\n",
       "    <tr style=\"text-align: right;\">\n",
       "      <th></th>\n",
       "      <th>employee</th>\n",
       "      <th>companyAlias</th>\n",
       "      <th>numVotes</th>\n",
       "      <th>lastParticipationDate</th>\n",
       "      <th>timezone</th>\n",
       "      <th>stillExists</th>\n",
       "      <th>deletedOn</th>\n",
       "      <th>Ceuta</th>\n",
       "      <th>chicago</th>\n",
       "      <th>amsterdam</th>\n",
       "      <th>berlin</th>\n",
       "      <th>madrid</th>\n",
       "      <th>moscow</th>\n",
       "      <th>LatestParticipatedDate</th>\n",
       "      <th>DaysSincelastParticipationDate</th>\n",
       "      <th>days_since_last_participated</th>\n",
       "    </tr>\n",
       "  </thead>\n",
       "  <tbody>\n",
       "    <tr>\n",
       "      <th>0</th>\n",
       "      <td>l8</td>\n",
       "      <td>C1</td>\n",
       "      <td>285</td>\n",
       "      <td>2019-03-08 01:03:00</td>\n",
       "      <td>Europe/Madrid</td>\n",
       "      <td>True</td>\n",
       "      <td>NaN</td>\n",
       "      <td>0</td>\n",
       "      <td>0</td>\n",
       "      <td>0</td>\n",
       "      <td>0</td>\n",
       "      <td>1</td>\n",
       "      <td>0</td>\n",
       "      <td>2019-03-11 01:03:00</td>\n",
       "      <td>3 days 00:00:00</td>\n",
       "      <td>3.0</td>\n",
       "    </tr>\n",
       "    <tr>\n",
       "      <th>1</th>\n",
       "      <td>Xv</td>\n",
       "      <td>C1</td>\n",
       "      <td>143</td>\n",
       "      <td>2018-04-21 02:04:00</td>\n",
       "      <td>Europe/Berlin</td>\n",
       "      <td>True</td>\n",
       "      <td>NaN</td>\n",
       "      <td>0</td>\n",
       "      <td>0</td>\n",
       "      <td>0</td>\n",
       "      <td>1</td>\n",
       "      <td>0</td>\n",
       "      <td>0</td>\n",
       "      <td>2019-03-11 01:03:00</td>\n",
       "      <td>323 days 22:59:00</td>\n",
       "      <td>323.0</td>\n",
       "    </tr>\n",
       "    <tr>\n",
       "      <th>2</th>\n",
       "      <td>w7</td>\n",
       "      <td>C1</td>\n",
       "      <td>381</td>\n",
       "      <td>2019-03-11 01:03:00</td>\n",
       "      <td>Europe/Madrid</td>\n",
       "      <td>True</td>\n",
       "      <td>NaN</td>\n",
       "      <td>0</td>\n",
       "      <td>0</td>\n",
       "      <td>0</td>\n",
       "      <td>0</td>\n",
       "      <td>1</td>\n",
       "      <td>0</td>\n",
       "      <td>2019-03-11 01:03:00</td>\n",
       "      <td>0 days 00:00:00</td>\n",
       "      <td>0.0</td>\n",
       "    </tr>\n",
       "    <tr>\n",
       "      <th>3</th>\n",
       "      <td>jE</td>\n",
       "      <td>C1</td>\n",
       "      <td>173</td>\n",
       "      <td>2019-03-01 01:03:00</td>\n",
       "      <td>Europe/Madrid</td>\n",
       "      <td>True</td>\n",
       "      <td>NaN</td>\n",
       "      <td>0</td>\n",
       "      <td>0</td>\n",
       "      <td>0</td>\n",
       "      <td>0</td>\n",
       "      <td>1</td>\n",
       "      <td>0</td>\n",
       "      <td>2019-03-11 01:03:00</td>\n",
       "      <td>10 days 00:00:00</td>\n",
       "      <td>10.0</td>\n",
       "    </tr>\n",
       "    <tr>\n",
       "      <th>4</th>\n",
       "      <td>QP</td>\n",
       "      <td>C1</td>\n",
       "      <td>312</td>\n",
       "      <td>2019-03-08 01:03:00</td>\n",
       "      <td>Europe/Berlin</td>\n",
       "      <td>True</td>\n",
       "      <td>NaN</td>\n",
       "      <td>0</td>\n",
       "      <td>0</td>\n",
       "      <td>0</td>\n",
       "      <td>1</td>\n",
       "      <td>0</td>\n",
       "      <td>0</td>\n",
       "      <td>2019-03-11 01:03:00</td>\n",
       "      <td>3 days 00:00:00</td>\n",
       "      <td>3.0</td>\n",
       "    </tr>\n",
       "  </tbody>\n",
       "</table>\n",
       "</div>"
      ],
      "text/plain": [
       "  employee companyAlias  numVotes lastParticipationDate       timezone  \\\n",
       "0       l8           C1       285   2019-03-08 01:03:00  Europe/Madrid   \n",
       "1       Xv           C1       143   2018-04-21 02:04:00  Europe/Berlin   \n",
       "2       w7           C1       381   2019-03-11 01:03:00  Europe/Madrid   \n",
       "3       jE           C1       173   2019-03-01 01:03:00  Europe/Madrid   \n",
       "4       QP           C1       312   2019-03-08 01:03:00  Europe/Berlin   \n",
       "\n",
       "   stillExists deletedOn  Ceuta  chicago  amsterdam  berlin  madrid  moscow  \\\n",
       "0         True       NaN      0        0          0       0       1       0   \n",
       "1         True       NaN      0        0          0       1       0       0   \n",
       "2         True       NaN      0        0          0       0       1       0   \n",
       "3         True       NaN      0        0          0       0       1       0   \n",
       "4         True       NaN      0        0          0       1       0       0   \n",
       "\n",
       "  LatestParticipatedDate DaysSincelastParticipationDate  \\\n",
       "0    2019-03-11 01:03:00                3 days 00:00:00   \n",
       "1    2019-03-11 01:03:00              323 days 22:59:00   \n",
       "2    2019-03-11 01:03:00                0 days 00:00:00   \n",
       "3    2019-03-11 01:03:00               10 days 00:00:00   \n",
       "4    2019-03-11 01:03:00                3 days 00:00:00   \n",
       "\n",
       "   days_since_last_participated  \n",
       "0                           3.0  \n",
       "1                         323.0  \n",
       "2                           0.0  \n",
       "3                          10.0  \n",
       "4                           3.0  "
      ]
     },
     "execution_count": 328,
     "metadata": {},
     "output_type": "execute_result"
    }
   ],
   "source": [
    "lastParticipationExists_v2['LatestParticipatedDate'] = max(lastParticipationExists_v2['lastParticipationDate'])\n",
    "lastParticipationExists_v2['DaysSincelastParticipationDate'] = lastParticipationExists_v2['LatestParticipatedDate'] - lastParticipationExists_v2['lastParticipationDate']\n",
    "lastParticipationExists_v2['days_since_last_participated'] = lastParticipationExists_v2['DaysSincelastParticipationDate'].apply(lambda x: x.days)\n",
    "\n",
    "lastParticipationExists_v2.head()"
   ]
  },
  {
   "cell_type": "markdown",
   "metadata": {},
   "source": [
    "#### combining Xs and Y"
   ]
  },
  {
   "cell_type": "code",
   "execution_count": 329,
   "metadata": {},
   "outputs": [
    {
     "name": "stdout",
     "output_type": "stream",
     "text": [
      "(897, 11)\n",
      "(897, 19)\n",
      "(902, 20)\n",
      "(902, 35)\n",
      "(836, 35)\n"
     ]
    }
   ],
   "source": [
    "X1 = pd.merge(votes_X, commnet_X,  how = 'left')\n",
    "print(X1.shape)\n",
    "X = pd.merge(X1, inter_X, how = 'left')\n",
    "print(X.shape)\n",
    "final1 = pd.merge(X, Y, how = 'left')\n",
    "print(final1.shape)\n",
    "final2 = pd.merge(final1, lastParticipationExists_v2, left_on = 'employee', right_on = 'employee',  how = 'left')\n",
    "print(final2.shape)\n",
    "final = final2.copy()\n",
    "\n",
    "\n",
    "final['Absence'].fillna('False', inplace = True)\n",
    "#final = final.drop(columns = ['employee', 'month'], axis = 1)\n",
    "final['Absence'] = [1 if i == True else 0 for i in final['Absence']]\n",
    "final = final[final['stillExists'] == True]\n",
    "\n",
    "################################################# \n",
    "## X - likeability and relative_mean_score ##\n",
    "################################################  \n",
    "\n",
    "print(final.shape)\n",
    "\n",
    "final['total_likes'].value_counts()\n",
    "\n",
    "final['likeability'] = final['total_likes'] != 0\n",
    "final['likeability'] = final['likeability'].astype(int)\n",
    "final['likeability'] \n",
    "\n",
    "final.loc[final['total_likes']==0, 'likeability'] = 0 \n",
    "final.loc[final['total_likes']!=0, 'likeability'] = final['total_likes']/(final['total_likes'] + final['total_dislikes'])\n",
    "\n",
    "final['total_num_of_feedback'] = final['congrats_num'] + final['criticism_num'] + final['information_num'] + final['other_num'] + final['suggestion_num']\n",
    "final['total_num_of_feedback']\n",
    "\n",
    "final['relative_mean_score'] = final['mean_votes_score']/np.mean(final['mean_votes_score'])"
   ]
  },
  {
   "cell_type": "code",
   "execution_count": 330,
   "metadata": {},
   "outputs": [],
   "source": [
    "# choose final \n",
    "final = final[['no_of_votes', 'congrats_num', 'criticism_num', 'information_num', 'other_num',\n",
    "       'suggestion_num', 'total_likes', 'total_dislikes', 'congrats_agree_num', 'information_agree_num', 'other_agree_num', \n",
    "        'suggestion_agree_num', 'congrats_disagree_num', 'information_disagree_num', 'other_disagree_num', \n",
    "        'suggestion_disagree_num', 'deletedOn', 'Ceuta', 'chicago', 'amsterdam', 'berlin', 'madrid','moscow','Absence', \n",
    "               'likeability', 'total_num_of_feedback', 'relative_mean_score']]\n",
    "        \n",
    "final = final.fillna(0)"
   ]
  },
  {
   "cell_type": "code",
   "execution_count": 331,
   "metadata": {},
   "outputs": [
    {
     "data": {
      "text/plain": [
       "Index(['no_of_votes', 'congrats_num', 'criticism_num', 'information_num',\n",
       "       'other_num', 'suggestion_num', 'total_likes', 'total_dislikes',\n",
       "       'congrats_agree_num', 'information_agree_num', 'other_agree_num',\n",
       "       'suggestion_agree_num', 'congrats_disagree_num',\n",
       "       'information_disagree_num', 'other_disagree_num',\n",
       "       'suggestion_disagree_num', 'deletedOn', 'Ceuta', 'chicago', 'amsterdam',\n",
       "       'berlin', 'madrid', 'moscow', 'Absence', 'likeability',\n",
       "       'total_num_of_feedback', 'relative_mean_score'],\n",
       "      dtype='object')"
      ]
     },
     "execution_count": 331,
     "metadata": {},
     "output_type": "execute_result"
    }
   ],
   "source": [
    "final.columns"
   ]
  },
  {
   "cell_type": "code",
   "execution_count": 332,
   "metadata": {},
   "outputs": [
    {
     "name": "stdout",
     "output_type": "stream",
     "text": [
      "Most of the employees participated in the dalily votes. However, very few of them did posting while some of them interacted with postings.\n"
     ]
    },
    {
     "data": {
      "text/html": [
       "<div>\n",
       "<style scoped>\n",
       "    .dataframe tbody tr th:only-of-type {\n",
       "        vertical-align: middle;\n",
       "    }\n",
       "\n",
       "    .dataframe tbody tr th {\n",
       "        vertical-align: top;\n",
       "    }\n",
       "\n",
       "    .dataframe thead th {\n",
       "        text-align: right;\n",
       "    }\n",
       "</style>\n",
       "<table border=\"1\" class=\"dataframe\">\n",
       "  <thead>\n",
       "    <tr style=\"text-align: right;\">\n",
       "      <th></th>\n",
       "      <th>no_of_votes</th>\n",
       "      <th>congrats_num</th>\n",
       "      <th>criticism_num</th>\n",
       "      <th>information_num</th>\n",
       "      <th>other_num</th>\n",
       "      <th>suggestion_num</th>\n",
       "      <th>total_likes</th>\n",
       "      <th>total_dislikes</th>\n",
       "      <th>congrats_agree_num</th>\n",
       "      <th>information_agree_num</th>\n",
       "      <th>...</th>\n",
       "      <th>Ceuta</th>\n",
       "      <th>chicago</th>\n",
       "      <th>amsterdam</th>\n",
       "      <th>berlin</th>\n",
       "      <th>madrid</th>\n",
       "      <th>moscow</th>\n",
       "      <th>Absence</th>\n",
       "      <th>likeability</th>\n",
       "      <th>total_num_of_feedback</th>\n",
       "      <th>relative_mean_score</th>\n",
       "    </tr>\n",
       "  </thead>\n",
       "  <tbody>\n",
       "    <tr>\n",
       "      <th>count</th>\n",
       "      <td>836.000000</td>\n",
       "      <td>836.000000</td>\n",
       "      <td>836.000000</td>\n",
       "      <td>836.000000</td>\n",
       "      <td>836.000000</td>\n",
       "      <td>836.000000</td>\n",
       "      <td>836.000000</td>\n",
       "      <td>836.000000</td>\n",
       "      <td>836.000000</td>\n",
       "      <td>836.000000</td>\n",
       "      <td>...</td>\n",
       "      <td>836.000000</td>\n",
       "      <td>836.0</td>\n",
       "      <td>836.0</td>\n",
       "      <td>836.000000</td>\n",
       "      <td>836.000000</td>\n",
       "      <td>836.000000</td>\n",
       "      <td>836.000000</td>\n",
       "      <td>836.000000</td>\n",
       "      <td>836.000000</td>\n",
       "      <td>836.000000</td>\n",
       "    </tr>\n",
       "    <tr>\n",
       "      <th>mean</th>\n",
       "      <td>19.037081</td>\n",
       "      <td>0.052632</td>\n",
       "      <td>0.002392</td>\n",
       "      <td>0.387560</td>\n",
       "      <td>0.209330</td>\n",
       "      <td>0.081340</td>\n",
       "      <td>12.582536</td>\n",
       "      <td>4.236842</td>\n",
       "      <td>1.610048</td>\n",
       "      <td>10.288278</td>\n",
       "      <td>...</td>\n",
       "      <td>0.020335</td>\n",
       "      <td>0.0</td>\n",
       "      <td>0.0</td>\n",
       "      <td>0.057416</td>\n",
       "      <td>0.921053</td>\n",
       "      <td>0.001196</td>\n",
       "      <td>0.075359</td>\n",
       "      <td>0.164266</td>\n",
       "      <td>0.733254</td>\n",
       "      <td>1.000000</td>\n",
       "    </tr>\n",
       "    <tr>\n",
       "      <th>std</th>\n",
       "      <td>9.010829</td>\n",
       "      <td>0.280471</td>\n",
       "      <td>0.048882</td>\n",
       "      <td>1.158375</td>\n",
       "      <td>0.933968</td>\n",
       "      <td>0.395285</td>\n",
       "      <td>35.338353</td>\n",
       "      <td>13.085399</td>\n",
       "      <td>2.446769</td>\n",
       "      <td>14.333476</td>\n",
       "      <td>...</td>\n",
       "      <td>0.141228</td>\n",
       "      <td>0.0</td>\n",
       "      <td>0.0</td>\n",
       "      <td>0.232776</td>\n",
       "      <td>0.269818</td>\n",
       "      <td>0.034586</td>\n",
       "      <td>0.264128</td>\n",
       "      <td>0.322359</td>\n",
       "      <td>1.744629</td>\n",
       "      <td>0.293991</td>\n",
       "    </tr>\n",
       "    <tr>\n",
       "      <th>min</th>\n",
       "      <td>1.000000</td>\n",
       "      <td>0.000000</td>\n",
       "      <td>0.000000</td>\n",
       "      <td>0.000000</td>\n",
       "      <td>0.000000</td>\n",
       "      <td>0.000000</td>\n",
       "      <td>0.000000</td>\n",
       "      <td>0.000000</td>\n",
       "      <td>0.000000</td>\n",
       "      <td>0.000000</td>\n",
       "      <td>...</td>\n",
       "      <td>0.000000</td>\n",
       "      <td>0.0</td>\n",
       "      <td>0.0</td>\n",
       "      <td>0.000000</td>\n",
       "      <td>0.000000</td>\n",
       "      <td>0.000000</td>\n",
       "      <td>0.000000</td>\n",
       "      <td>0.000000</td>\n",
       "      <td>0.000000</td>\n",
       "      <td>0.351049</td>\n",
       "    </tr>\n",
       "    <tr>\n",
       "      <th>25%</th>\n",
       "      <td>12.000000</td>\n",
       "      <td>0.000000</td>\n",
       "      <td>0.000000</td>\n",
       "      <td>0.000000</td>\n",
       "      <td>0.000000</td>\n",
       "      <td>0.000000</td>\n",
       "      <td>0.000000</td>\n",
       "      <td>0.000000</td>\n",
       "      <td>0.000000</td>\n",
       "      <td>1.000000</td>\n",
       "      <td>...</td>\n",
       "      <td>0.000000</td>\n",
       "      <td>0.0</td>\n",
       "      <td>0.0</td>\n",
       "      <td>0.000000</td>\n",
       "      <td>1.000000</td>\n",
       "      <td>0.000000</td>\n",
       "      <td>0.000000</td>\n",
       "      <td>0.000000</td>\n",
       "      <td>0.000000</td>\n",
       "      <td>0.798636</td>\n",
       "    </tr>\n",
       "    <tr>\n",
       "      <th>50%</th>\n",
       "      <td>21.000000</td>\n",
       "      <td>0.000000</td>\n",
       "      <td>0.000000</td>\n",
       "      <td>0.000000</td>\n",
       "      <td>0.000000</td>\n",
       "      <td>0.000000</td>\n",
       "      <td>0.000000</td>\n",
       "      <td>0.000000</td>\n",
       "      <td>1.000000</td>\n",
       "      <td>5.000000</td>\n",
       "      <td>...</td>\n",
       "      <td>0.000000</td>\n",
       "      <td>0.0</td>\n",
       "      <td>0.0</td>\n",
       "      <td>0.000000</td>\n",
       "      <td>1.000000</td>\n",
       "      <td>0.000000</td>\n",
       "      <td>0.000000</td>\n",
       "      <td>0.000000</td>\n",
       "      <td>0.000000</td>\n",
       "      <td>1.053147</td>\n",
       "    </tr>\n",
       "    <tr>\n",
       "      <th>75%</th>\n",
       "      <td>27.000000</td>\n",
       "      <td>0.000000</td>\n",
       "      <td>0.000000</td>\n",
       "      <td>0.000000</td>\n",
       "      <td>0.000000</td>\n",
       "      <td>0.000000</td>\n",
       "      <td>0.000000</td>\n",
       "      <td>0.000000</td>\n",
       "      <td>2.000000</td>\n",
       "      <td>14.250000</td>\n",
       "      <td>...</td>\n",
       "      <td>0.000000</td>\n",
       "      <td>0.0</td>\n",
       "      <td>0.0</td>\n",
       "      <td>0.000000</td>\n",
       "      <td>1.000000</td>\n",
       "      <td>0.000000</td>\n",
       "      <td>0.000000</td>\n",
       "      <td>0.000000</td>\n",
       "      <td>1.000000</td>\n",
       "      <td>1.155064</td>\n",
       "    </tr>\n",
       "    <tr>\n",
       "      <th>max</th>\n",
       "      <td>31.000000</td>\n",
       "      <td>3.000000</td>\n",
       "      <td>1.000000</td>\n",
       "      <td>13.000000</td>\n",
       "      <td>10.000000</td>\n",
       "      <td>6.000000</td>\n",
       "      <td>347.000000</td>\n",
       "      <td>137.000000</td>\n",
       "      <td>19.000000</td>\n",
       "      <td>102.000000</td>\n",
       "      <td>...</td>\n",
       "      <td>1.000000</td>\n",
       "      <td>0.0</td>\n",
       "      <td>0.0</td>\n",
       "      <td>1.000000</td>\n",
       "      <td>1.000000</td>\n",
       "      <td>1.000000</td>\n",
       "      <td>1.000000</td>\n",
       "      <td>1.000000</td>\n",
       "      <td>17.000000</td>\n",
       "      <td>1.404196</td>\n",
       "    </tr>\n",
       "  </tbody>\n",
       "</table>\n",
       "<p>8 rows × 27 columns</p>\n",
       "</div>"
      ],
      "text/plain": [
       "       no_of_votes  congrats_num  criticism_num  information_num   other_num  \\\n",
       "count   836.000000    836.000000     836.000000       836.000000  836.000000   \n",
       "mean     19.037081      0.052632       0.002392         0.387560    0.209330   \n",
       "std       9.010829      0.280471       0.048882         1.158375    0.933968   \n",
       "min       1.000000      0.000000       0.000000         0.000000    0.000000   \n",
       "25%      12.000000      0.000000       0.000000         0.000000    0.000000   \n",
       "50%      21.000000      0.000000       0.000000         0.000000    0.000000   \n",
       "75%      27.000000      0.000000       0.000000         0.000000    0.000000   \n",
       "max      31.000000      3.000000       1.000000        13.000000   10.000000   \n",
       "\n",
       "       suggestion_num  total_likes  total_dislikes  congrats_agree_num  \\\n",
       "count      836.000000   836.000000      836.000000          836.000000   \n",
       "mean         0.081340    12.582536        4.236842            1.610048   \n",
       "std          0.395285    35.338353       13.085399            2.446769   \n",
       "min          0.000000     0.000000        0.000000            0.000000   \n",
       "25%          0.000000     0.000000        0.000000            0.000000   \n",
       "50%          0.000000     0.000000        0.000000            1.000000   \n",
       "75%          0.000000     0.000000        0.000000            2.000000   \n",
       "max          6.000000   347.000000      137.000000           19.000000   \n",
       "\n",
       "       information_agree_num  ...       Ceuta  chicago  amsterdam      berlin  \\\n",
       "count             836.000000  ...  836.000000    836.0      836.0  836.000000   \n",
       "mean               10.288278  ...    0.020335      0.0        0.0    0.057416   \n",
       "std                14.333476  ...    0.141228      0.0        0.0    0.232776   \n",
       "min                 0.000000  ...    0.000000      0.0        0.0    0.000000   \n",
       "25%                 1.000000  ...    0.000000      0.0        0.0    0.000000   \n",
       "50%                 5.000000  ...    0.000000      0.0        0.0    0.000000   \n",
       "75%                14.250000  ...    0.000000      0.0        0.0    0.000000   \n",
       "max               102.000000  ...    1.000000      0.0        0.0    1.000000   \n",
       "\n",
       "           madrid      moscow     Absence  likeability  total_num_of_feedback  \\\n",
       "count  836.000000  836.000000  836.000000   836.000000             836.000000   \n",
       "mean     0.921053    0.001196    0.075359     0.164266               0.733254   \n",
       "std      0.269818    0.034586    0.264128     0.322359               1.744629   \n",
       "min      0.000000    0.000000    0.000000     0.000000               0.000000   \n",
       "25%      1.000000    0.000000    0.000000     0.000000               0.000000   \n",
       "50%      1.000000    0.000000    0.000000     0.000000               0.000000   \n",
       "75%      1.000000    0.000000    0.000000     0.000000               1.000000   \n",
       "max      1.000000    1.000000    1.000000     1.000000              17.000000   \n",
       "\n",
       "       relative_mean_score  \n",
       "count           836.000000  \n",
       "mean              1.000000  \n",
       "std               0.293991  \n",
       "min               0.351049  \n",
       "25%               0.798636  \n",
       "50%               1.053147  \n",
       "75%               1.155064  \n",
       "max               1.404196  \n",
       "\n",
       "[8 rows x 27 columns]"
      ]
     },
     "execution_count": 332,
     "metadata": {},
     "output_type": "execute_result"
    }
   ],
   "source": [
    "print('Most of the employees participated in the dalily votes. However, very few of them did posting while some of them interacted with postings.')\n",
    "final.describe()"
   ]
  },
  {
   "cell_type": "code",
   "execution_count": 333,
   "metadata": {},
   "outputs": [
    {
     "name": "stdout",
     "output_type": "stream",
     "text": [
      "the data is extremely unbalanced; we may need to re-sample/balance the dataset before modeling the model.\n"
     ]
    },
    {
     "data": {
      "text/plain": [
       "0    0.924641\n",
       "1    0.075359\n",
       "Name: Absence, dtype: float64"
      ]
     },
     "execution_count": 333,
     "metadata": {},
     "output_type": "execute_result"
    }
   ],
   "source": [
    "print('the data is extremely unbalanced; we may need to re-sample/balance the dataset before modeling the model.')\n",
    "#Class Imbalance\n",
    "final['Absence'].value_counts()/(final['Absence'].value_counts()[0] + final['Absence'].value_counts()[1])"
   ]
  },
  {
   "cell_type": "code",
   "execution_count": 334,
   "metadata": {},
   "outputs": [
    {
     "data": {
      "text/html": [
       "<div>\n",
       "<style scoped>\n",
       "    .dataframe tbody tr th:only-of-type {\n",
       "        vertical-align: middle;\n",
       "    }\n",
       "\n",
       "    .dataframe tbody tr th {\n",
       "        vertical-align: top;\n",
       "    }\n",
       "\n",
       "    .dataframe thead th {\n",
       "        text-align: right;\n",
       "    }\n",
       "</style>\n",
       "<table border=\"1\" class=\"dataframe\">\n",
       "  <thead>\n",
       "    <tr style=\"text-align: right;\">\n",
       "      <th></th>\n",
       "      <th>no_of_votes</th>\n",
       "      <th>congrats_num</th>\n",
       "      <th>criticism_num</th>\n",
       "      <th>information_num</th>\n",
       "      <th>other_num</th>\n",
       "      <th>suggestion_num</th>\n",
       "      <th>total_likes</th>\n",
       "      <th>total_dislikes</th>\n",
       "      <th>congrats_agree_num</th>\n",
       "      <th>information_agree_num</th>\n",
       "      <th>...</th>\n",
       "      <th>Ceuta</th>\n",
       "      <th>chicago</th>\n",
       "      <th>amsterdam</th>\n",
       "      <th>berlin</th>\n",
       "      <th>madrid</th>\n",
       "      <th>moscow</th>\n",
       "      <th>Absence</th>\n",
       "      <th>likeability</th>\n",
       "      <th>total_num_of_feedback</th>\n",
       "      <th>relative_mean_score</th>\n",
       "    </tr>\n",
       "  </thead>\n",
       "  <tbody>\n",
       "    <tr>\n",
       "      <th>0</th>\n",
       "      <td>25</td>\n",
       "      <td>0.0</td>\n",
       "      <td>0.0</td>\n",
       "      <td>0.0</td>\n",
       "      <td>0.0</td>\n",
       "      <td>0.0</td>\n",
       "      <td>0.0</td>\n",
       "      <td>0.0</td>\n",
       "      <td>7.0</td>\n",
       "      <td>28.0</td>\n",
       "      <td>...</td>\n",
       "      <td>0</td>\n",
       "      <td>0</td>\n",
       "      <td>0</td>\n",
       "      <td>1</td>\n",
       "      <td>0</td>\n",
       "      <td>0</td>\n",
       "      <td>0</td>\n",
       "      <td>0.0</td>\n",
       "      <td>0.0</td>\n",
       "      <td>0.351049</td>\n",
       "    </tr>\n",
       "    <tr>\n",
       "      <th>1</th>\n",
       "      <td>19</td>\n",
       "      <td>0.0</td>\n",
       "      <td>0.0</td>\n",
       "      <td>0.0</td>\n",
       "      <td>0.0</td>\n",
       "      <td>0.0</td>\n",
       "      <td>0.0</td>\n",
       "      <td>0.0</td>\n",
       "      <td>1.0</td>\n",
       "      <td>4.0</td>\n",
       "      <td>...</td>\n",
       "      <td>0</td>\n",
       "      <td>0</td>\n",
       "      <td>0</td>\n",
       "      <td>1</td>\n",
       "      <td>0</td>\n",
       "      <td>0</td>\n",
       "      <td>0</td>\n",
       "      <td>0.0</td>\n",
       "      <td>0.0</td>\n",
       "      <td>0.351049</td>\n",
       "    </tr>\n",
       "    <tr>\n",
       "      <th>2</th>\n",
       "      <td>22</td>\n",
       "      <td>0.0</td>\n",
       "      <td>0.0</td>\n",
       "      <td>0.0</td>\n",
       "      <td>0.0</td>\n",
       "      <td>0.0</td>\n",
       "      <td>0.0</td>\n",
       "      <td>0.0</td>\n",
       "      <td>0.0</td>\n",
       "      <td>23.0</td>\n",
       "      <td>...</td>\n",
       "      <td>0</td>\n",
       "      <td>0</td>\n",
       "      <td>0</td>\n",
       "      <td>1</td>\n",
       "      <td>0</td>\n",
       "      <td>0</td>\n",
       "      <td>0</td>\n",
       "      <td>0.0</td>\n",
       "      <td>0.0</td>\n",
       "      <td>0.351049</td>\n",
       "    </tr>\n",
       "    <tr>\n",
       "      <th>3</th>\n",
       "      <td>1</td>\n",
       "      <td>0.0</td>\n",
       "      <td>0.0</td>\n",
       "      <td>0.0</td>\n",
       "      <td>0.0</td>\n",
       "      <td>0.0</td>\n",
       "      <td>0.0</td>\n",
       "      <td>0.0</td>\n",
       "      <td>0.0</td>\n",
       "      <td>0.0</td>\n",
       "      <td>...</td>\n",
       "      <td>0</td>\n",
       "      <td>0</td>\n",
       "      <td>0</td>\n",
       "      <td>0</td>\n",
       "      <td>1</td>\n",
       "      <td>0</td>\n",
       "      <td>0</td>\n",
       "      <td>0.0</td>\n",
       "      <td>0.0</td>\n",
       "      <td>1.053147</td>\n",
       "    </tr>\n",
       "    <tr>\n",
       "      <th>4</th>\n",
       "      <td>27</td>\n",
       "      <td>0.0</td>\n",
       "      <td>0.0</td>\n",
       "      <td>0.0</td>\n",
       "      <td>0.0</td>\n",
       "      <td>0.0</td>\n",
       "      <td>0.0</td>\n",
       "      <td>0.0</td>\n",
       "      <td>0.0</td>\n",
       "      <td>1.0</td>\n",
       "      <td>...</td>\n",
       "      <td>0</td>\n",
       "      <td>0</td>\n",
       "      <td>0</td>\n",
       "      <td>0</td>\n",
       "      <td>1</td>\n",
       "      <td>0</td>\n",
       "      <td>0</td>\n",
       "      <td>0.0</td>\n",
       "      <td>0.0</td>\n",
       "      <td>0.702098</td>\n",
       "    </tr>\n",
       "  </tbody>\n",
       "</table>\n",
       "<p>5 rows × 27 columns</p>\n",
       "</div>"
      ],
      "text/plain": [
       "   no_of_votes  congrats_num  criticism_num  information_num  other_num  \\\n",
       "0           25           0.0            0.0              0.0        0.0   \n",
       "1           19           0.0            0.0              0.0        0.0   \n",
       "2           22           0.0            0.0              0.0        0.0   \n",
       "3            1           0.0            0.0              0.0        0.0   \n",
       "4           27           0.0            0.0              0.0        0.0   \n",
       "\n",
       "   suggestion_num  total_likes  total_dislikes  congrats_agree_num  \\\n",
       "0             0.0          0.0             0.0                 7.0   \n",
       "1             0.0          0.0             0.0                 1.0   \n",
       "2             0.0          0.0             0.0                 0.0   \n",
       "3             0.0          0.0             0.0                 0.0   \n",
       "4             0.0          0.0             0.0                 0.0   \n",
       "\n",
       "   information_agree_num  ...  Ceuta  chicago  amsterdam  berlin  madrid  \\\n",
       "0                   28.0  ...      0        0          0       1       0   \n",
       "1                    4.0  ...      0        0          0       1       0   \n",
       "2                   23.0  ...      0        0          0       1       0   \n",
       "3                    0.0  ...      0        0          0       0       1   \n",
       "4                    1.0  ...      0        0          0       0       1   \n",
       "\n",
       "   moscow  Absence  likeability  total_num_of_feedback  relative_mean_score  \n",
       "0       0        0          0.0                    0.0             0.351049  \n",
       "1       0        0          0.0                    0.0             0.351049  \n",
       "2       0        0          0.0                    0.0             0.351049  \n",
       "3       0        0          0.0                    0.0             1.053147  \n",
       "4       0        0          0.0                    0.0             0.702098  \n",
       "\n",
       "[5 rows x 27 columns]"
      ]
     },
     "execution_count": 334,
     "metadata": {},
     "output_type": "execute_result"
    }
   ],
   "source": [
    "final.head()"
   ]
  },
  {
   "cell_type": "markdown",
   "metadata": {},
   "source": [
    "# Exploratory Data Analysis"
   ]
  },
  {
   "cell_type": "code",
   "execution_count": 335,
   "metadata": {},
   "outputs": [
    {
     "data": {
      "text/plain": [
       "0.0     414\n",
       "1.0     133\n",
       "2.0      97\n",
       "3.0      51\n",
       "4.0      45\n",
       "5.0      26\n",
       "6.0      22\n",
       "7.0      12\n",
       "8.0       9\n",
       "9.0       8\n",
       "10.0      6\n",
       "11.0      5\n",
       "13.0      3\n",
       "17.0      1\n",
       "18.0      1\n",
       "16.0      1\n",
       "12.0      1\n",
       "14.0      1\n",
       "Name: suggestion_agree_num, dtype: int64"
      ]
     },
     "execution_count": 335,
     "metadata": {},
     "output_type": "execute_result"
    }
   ],
   "source": [
    "final['suggestion_agree_num'].value_counts()"
   ]
  },
  {
   "cell_type": "code",
   "execution_count": 336,
   "metadata": {},
   "outputs": [
    {
     "data": {
      "text/html": [
       "<div>\n",
       "<style scoped>\n",
       "    .dataframe tbody tr th:only-of-type {\n",
       "        vertical-align: middle;\n",
       "    }\n",
       "\n",
       "    .dataframe tbody tr th {\n",
       "        vertical-align: top;\n",
       "    }\n",
       "\n",
       "    .dataframe thead th {\n",
       "        text-align: right;\n",
       "    }\n",
       "</style>\n",
       "<table border=\"1\" class=\"dataframe\">\n",
       "  <thead>\n",
       "    <tr style=\"text-align: right;\">\n",
       "      <th></th>\n",
       "      <th>no_of_votes</th>\n",
       "      <th>congrats_num</th>\n",
       "      <th>criticism_num</th>\n",
       "      <th>information_num</th>\n",
       "      <th>other_num</th>\n",
       "      <th>suggestion_num</th>\n",
       "      <th>total_likes</th>\n",
       "      <th>total_dislikes</th>\n",
       "      <th>congrats_agree_num</th>\n",
       "      <th>information_agree_num</th>\n",
       "      <th>...</th>\n",
       "      <th>Ceuta</th>\n",
       "      <th>chicago</th>\n",
       "      <th>amsterdam</th>\n",
       "      <th>berlin</th>\n",
       "      <th>madrid</th>\n",
       "      <th>moscow</th>\n",
       "      <th>Absence</th>\n",
       "      <th>likeability</th>\n",
       "      <th>total_num_of_feedback</th>\n",
       "      <th>relative_mean_score</th>\n",
       "    </tr>\n",
       "  </thead>\n",
       "  <tbody>\n",
       "    <tr>\n",
       "      <th>0</th>\n",
       "      <td>25</td>\n",
       "      <td>0.0</td>\n",
       "      <td>0.0</td>\n",
       "      <td>0.0</td>\n",
       "      <td>0.0</td>\n",
       "      <td>0.0</td>\n",
       "      <td>0.0</td>\n",
       "      <td>0.0</td>\n",
       "      <td>7.0</td>\n",
       "      <td>28.0</td>\n",
       "      <td>...</td>\n",
       "      <td>0</td>\n",
       "      <td>0</td>\n",
       "      <td>0</td>\n",
       "      <td>1</td>\n",
       "      <td>0</td>\n",
       "      <td>0</td>\n",
       "      <td>0</td>\n",
       "      <td>0.0</td>\n",
       "      <td>0.0</td>\n",
       "      <td>0.351049</td>\n",
       "    </tr>\n",
       "    <tr>\n",
       "      <th>1</th>\n",
       "      <td>19</td>\n",
       "      <td>0.0</td>\n",
       "      <td>0.0</td>\n",
       "      <td>0.0</td>\n",
       "      <td>0.0</td>\n",
       "      <td>0.0</td>\n",
       "      <td>0.0</td>\n",
       "      <td>0.0</td>\n",
       "      <td>1.0</td>\n",
       "      <td>4.0</td>\n",
       "      <td>...</td>\n",
       "      <td>0</td>\n",
       "      <td>0</td>\n",
       "      <td>0</td>\n",
       "      <td>1</td>\n",
       "      <td>0</td>\n",
       "      <td>0</td>\n",
       "      <td>0</td>\n",
       "      <td>0.0</td>\n",
       "      <td>0.0</td>\n",
       "      <td>0.351049</td>\n",
       "    </tr>\n",
       "    <tr>\n",
       "      <th>2</th>\n",
       "      <td>22</td>\n",
       "      <td>0.0</td>\n",
       "      <td>0.0</td>\n",
       "      <td>0.0</td>\n",
       "      <td>0.0</td>\n",
       "      <td>0.0</td>\n",
       "      <td>0.0</td>\n",
       "      <td>0.0</td>\n",
       "      <td>0.0</td>\n",
       "      <td>23.0</td>\n",
       "      <td>...</td>\n",
       "      <td>0</td>\n",
       "      <td>0</td>\n",
       "      <td>0</td>\n",
       "      <td>1</td>\n",
       "      <td>0</td>\n",
       "      <td>0</td>\n",
       "      <td>0</td>\n",
       "      <td>0.0</td>\n",
       "      <td>0.0</td>\n",
       "      <td>0.351049</td>\n",
       "    </tr>\n",
       "    <tr>\n",
       "      <th>3</th>\n",
       "      <td>1</td>\n",
       "      <td>0.0</td>\n",
       "      <td>0.0</td>\n",
       "      <td>0.0</td>\n",
       "      <td>0.0</td>\n",
       "      <td>0.0</td>\n",
       "      <td>0.0</td>\n",
       "      <td>0.0</td>\n",
       "      <td>0.0</td>\n",
       "      <td>0.0</td>\n",
       "      <td>...</td>\n",
       "      <td>0</td>\n",
       "      <td>0</td>\n",
       "      <td>0</td>\n",
       "      <td>0</td>\n",
       "      <td>1</td>\n",
       "      <td>0</td>\n",
       "      <td>0</td>\n",
       "      <td>0.0</td>\n",
       "      <td>0.0</td>\n",
       "      <td>1.053147</td>\n",
       "    </tr>\n",
       "    <tr>\n",
       "      <th>4</th>\n",
       "      <td>27</td>\n",
       "      <td>0.0</td>\n",
       "      <td>0.0</td>\n",
       "      <td>0.0</td>\n",
       "      <td>0.0</td>\n",
       "      <td>0.0</td>\n",
       "      <td>0.0</td>\n",
       "      <td>0.0</td>\n",
       "      <td>0.0</td>\n",
       "      <td>1.0</td>\n",
       "      <td>...</td>\n",
       "      <td>0</td>\n",
       "      <td>0</td>\n",
       "      <td>0</td>\n",
       "      <td>0</td>\n",
       "      <td>1</td>\n",
       "      <td>0</td>\n",
       "      <td>0</td>\n",
       "      <td>0.0</td>\n",
       "      <td>0.0</td>\n",
       "      <td>0.702098</td>\n",
       "    </tr>\n",
       "    <tr>\n",
       "      <th>...</th>\n",
       "      <td>...</td>\n",
       "      <td>...</td>\n",
       "      <td>...</td>\n",
       "      <td>...</td>\n",
       "      <td>...</td>\n",
       "      <td>...</td>\n",
       "      <td>...</td>\n",
       "      <td>...</td>\n",
       "      <td>...</td>\n",
       "      <td>...</td>\n",
       "      <td>...</td>\n",
       "      <td>...</td>\n",
       "      <td>...</td>\n",
       "      <td>...</td>\n",
       "      <td>...</td>\n",
       "      <td>...</td>\n",
       "      <td>...</td>\n",
       "      <td>...</td>\n",
       "      <td>...</td>\n",
       "      <td>...</td>\n",
       "      <td>...</td>\n",
       "    </tr>\n",
       "    <tr>\n",
       "      <th>896</th>\n",
       "      <td>23</td>\n",
       "      <td>0.0</td>\n",
       "      <td>0.0</td>\n",
       "      <td>0.0</td>\n",
       "      <td>0.0</td>\n",
       "      <td>0.0</td>\n",
       "      <td>0.0</td>\n",
       "      <td>0.0</td>\n",
       "      <td>1.0</td>\n",
       "      <td>0.0</td>\n",
       "      <td>...</td>\n",
       "      <td>0</td>\n",
       "      <td>0</td>\n",
       "      <td>0</td>\n",
       "      <td>0</td>\n",
       "      <td>1</td>\n",
       "      <td>0</td>\n",
       "      <td>0</td>\n",
       "      <td>0.0</td>\n",
       "      <td>0.0</td>\n",
       "      <td>1.404196</td>\n",
       "    </tr>\n",
       "    <tr>\n",
       "      <th>897</th>\n",
       "      <td>20</td>\n",
       "      <td>0.0</td>\n",
       "      <td>0.0</td>\n",
       "      <td>0.0</td>\n",
       "      <td>0.0</td>\n",
       "      <td>0.0</td>\n",
       "      <td>0.0</td>\n",
       "      <td>0.0</td>\n",
       "      <td>0.0</td>\n",
       "      <td>5.0</td>\n",
       "      <td>...</td>\n",
       "      <td>0</td>\n",
       "      <td>0</td>\n",
       "      <td>0</td>\n",
       "      <td>0</td>\n",
       "      <td>1</td>\n",
       "      <td>0</td>\n",
       "      <td>0</td>\n",
       "      <td>0.0</td>\n",
       "      <td>0.0</td>\n",
       "      <td>0.737203</td>\n",
       "    </tr>\n",
       "    <tr>\n",
       "      <th>899</th>\n",
       "      <td>2</td>\n",
       "      <td>0.0</td>\n",
       "      <td>0.0</td>\n",
       "      <td>0.0</td>\n",
       "      <td>0.0</td>\n",
       "      <td>0.0</td>\n",
       "      <td>0.0</td>\n",
       "      <td>0.0</td>\n",
       "      <td>0.0</td>\n",
       "      <td>0.0</td>\n",
       "      <td>...</td>\n",
       "      <td>0</td>\n",
       "      <td>0</td>\n",
       "      <td>0</td>\n",
       "      <td>0</td>\n",
       "      <td>1</td>\n",
       "      <td>0</td>\n",
       "      <td>0</td>\n",
       "      <td>0.0</td>\n",
       "      <td>0.0</td>\n",
       "      <td>1.053147</td>\n",
       "    </tr>\n",
       "    <tr>\n",
       "      <th>900</th>\n",
       "      <td>8</td>\n",
       "      <td>0.0</td>\n",
       "      <td>0.0</td>\n",
       "      <td>0.0</td>\n",
       "      <td>0.0</td>\n",
       "      <td>0.0</td>\n",
       "      <td>0.0</td>\n",
       "      <td>0.0</td>\n",
       "      <td>0.0</td>\n",
       "      <td>0.0</td>\n",
       "      <td>...</td>\n",
       "      <td>0</td>\n",
       "      <td>0</td>\n",
       "      <td>0</td>\n",
       "      <td>0</td>\n",
       "      <td>1</td>\n",
       "      <td>0</td>\n",
       "      <td>0</td>\n",
       "      <td>0.0</td>\n",
       "      <td>0.0</td>\n",
       "      <td>1.404196</td>\n",
       "    </tr>\n",
       "    <tr>\n",
       "      <th>901</th>\n",
       "      <td>6</td>\n",
       "      <td>0.0</td>\n",
       "      <td>0.0</td>\n",
       "      <td>0.0</td>\n",
       "      <td>0.0</td>\n",
       "      <td>0.0</td>\n",
       "      <td>0.0</td>\n",
       "      <td>0.0</td>\n",
       "      <td>0.0</td>\n",
       "      <td>0.0</td>\n",
       "      <td>...</td>\n",
       "      <td>0</td>\n",
       "      <td>0</td>\n",
       "      <td>0</td>\n",
       "      <td>0</td>\n",
       "      <td>1</td>\n",
       "      <td>0</td>\n",
       "      <td>0</td>\n",
       "      <td>0.0</td>\n",
       "      <td>0.0</td>\n",
       "      <td>1.228671</td>\n",
       "    </tr>\n",
       "  </tbody>\n",
       "</table>\n",
       "<p>836 rows × 27 columns</p>\n",
       "</div>"
      ],
      "text/plain": [
       "     no_of_votes  congrats_num  criticism_num  information_num  other_num  \\\n",
       "0             25           0.0            0.0              0.0        0.0   \n",
       "1             19           0.0            0.0              0.0        0.0   \n",
       "2             22           0.0            0.0              0.0        0.0   \n",
       "3              1           0.0            0.0              0.0        0.0   \n",
       "4             27           0.0            0.0              0.0        0.0   \n",
       "..           ...           ...            ...              ...        ...   \n",
       "896           23           0.0            0.0              0.0        0.0   \n",
       "897           20           0.0            0.0              0.0        0.0   \n",
       "899            2           0.0            0.0              0.0        0.0   \n",
       "900            8           0.0            0.0              0.0        0.0   \n",
       "901            6           0.0            0.0              0.0        0.0   \n",
       "\n",
       "     suggestion_num  total_likes  total_dislikes  congrats_agree_num  \\\n",
       "0               0.0          0.0             0.0                 7.0   \n",
       "1               0.0          0.0             0.0                 1.0   \n",
       "2               0.0          0.0             0.0                 0.0   \n",
       "3               0.0          0.0             0.0                 0.0   \n",
       "4               0.0          0.0             0.0                 0.0   \n",
       "..              ...          ...             ...                 ...   \n",
       "896             0.0          0.0             0.0                 1.0   \n",
       "897             0.0          0.0             0.0                 0.0   \n",
       "899             0.0          0.0             0.0                 0.0   \n",
       "900             0.0          0.0             0.0                 0.0   \n",
       "901             0.0          0.0             0.0                 0.0   \n",
       "\n",
       "     information_agree_num  ...  Ceuta  chicago  amsterdam  berlin  madrid  \\\n",
       "0                     28.0  ...      0        0          0       1       0   \n",
       "1                      4.0  ...      0        0          0       1       0   \n",
       "2                     23.0  ...      0        0          0       1       0   \n",
       "3                      0.0  ...      0        0          0       0       1   \n",
       "4                      1.0  ...      0        0          0       0       1   \n",
       "..                     ...  ...    ...      ...        ...     ...     ...   \n",
       "896                    0.0  ...      0        0          0       0       1   \n",
       "897                    5.0  ...      0        0          0       0       1   \n",
       "899                    0.0  ...      0        0          0       0       1   \n",
       "900                    0.0  ...      0        0          0       0       1   \n",
       "901                    0.0  ...      0        0          0       0       1   \n",
       "\n",
       "     moscow  Absence  likeability  total_num_of_feedback  relative_mean_score  \n",
       "0         0        0          0.0                    0.0             0.351049  \n",
       "1         0        0          0.0                    0.0             0.351049  \n",
       "2         0        0          0.0                    0.0             0.351049  \n",
       "3         0        0          0.0                    0.0             1.053147  \n",
       "4         0        0          0.0                    0.0             0.702098  \n",
       "..      ...      ...          ...                    ...                  ...  \n",
       "896       0        0          0.0                    0.0             1.404196  \n",
       "897       0        0          0.0                    0.0             0.737203  \n",
       "899       0        0          0.0                    0.0             1.053147  \n",
       "900       0        0          0.0                    0.0             1.404196  \n",
       "901       0        0          0.0                    0.0             1.228671  \n",
       "\n",
       "[836 rows x 27 columns]"
      ]
     },
     "execution_count": 336,
     "metadata": {},
     "output_type": "execute_result"
    }
   ],
   "source": [
    "final"
   ]
  },
  {
   "cell_type": "code",
   "execution_count": 337,
   "metadata": {},
   "outputs": [
    {
     "data": {
      "image/png": "[encoded data removed]",
      "text/plain": [
       "<Figure size 1080x864 with 9 Axes>"
      ]
     },
     "metadata": {
      "needs_background": "light"
     },
     "output_type": "display_data"
    }
   ],
   "source": [
    "iter_cols = ['no_of_votes', 'relative_mean_score', 'congrats_num',\n",
    " 'criticism_num',\n",
    " 'information_num',\n",
    " 'other_num',\n",
    " 'suggestion_num',\n",
    " 'congrats_agree_num',\n",
    " 'information_agree_num']\n",
    "\n",
    "\n",
    "fig = plt.figure(num = 98, figsize = (15, 12))\n",
    "for i in range(0, 9):\n",
    "    ax1 = fig.add_subplot(3, 3, i + 1)\n",
    "    _ = sns.boxplot(x = \"Absence\", y = iter_cols[i], data = final, ax = ax1, showfliers = False)\n",
    "    _ = plt.tight_layout()\n",
    "plt.show()"
   ]
  },
  {
   "cell_type": "code",
   "execution_count": 338,
   "metadata": {},
   "outputs": [
    {
     "data": {
      "image/png": "[encoded data removed]",
      "text/plain": [
       "<Figure size 1080x864 with 7 Axes>"
      ]
     },
     "metadata": {
      "needs_background": "light"
     },
     "output_type": "display_data"
    }
   ],
   "source": [
    " iter_cols = ['other_agree_num',\n",
    " 'suggestion_agree_num',\n",
    " 'congrats_disagree_num',\n",
    " 'information_disagree_num',\n",
    " 'other_disagree_num',\n",
    " 'suggestion_disagree_num',\n",
    " 'total_num_of_feedback']\n",
    "\n",
    "fig = plt.figure(num = 98, figsize = (15, 12))\n",
    "for i in range(0, 7):\n",
    "    ax1 = fig.add_subplot(3, 3, i + 1)\n",
    "    _ = sns.boxplot(x = \"Absence\", y = iter_cols[i], data = final, ax = ax1, showfliers = False)\n",
    "    _ = plt.tight_layout()\n",
    "plt.show()"
   ]
  },
  {
   "cell_type": "code",
   "execution_count": 339,
   "metadata": {},
   "outputs": [
    {
     "data": {
      "image/png": "[encoded data removed]",
      "text/plain": [
       "<Figure size 1080x864 with 1 Axes>"
      ]
     },
     "metadata": {
      "needs_background": "light"
     },
     "output_type": "display_data"
    }
   ],
   "source": [
    "# no_of_votes\n",
    "fig = plt.figure(num = 98, figsize = (15, 12))\n",
    "ax1 = fig.add_subplot(3, 3,1)\n",
    "sns.boxplot(x = \"Absence\", y = 'no_of_votes', data = final, ax = ax1, showfliers = False)\n",
    "plt.show()"
   ]
  },
  {
   "cell_type": "code",
   "execution_count": 340,
   "metadata": {},
   "outputs": [
    {
     "data": {
      "image/png": "[encoded data removed]",
      "text/plain": [
       "<Figure size 1080x864 with 1 Axes>"
      ]
     },
     "metadata": {
      "needs_background": "light"
     },
     "output_type": "display_data"
    }
   ],
   "source": [
    "# relative_mean_score\n",
    "fig = plt.figure(num = 98, figsize = (15, 12))\n",
    "ax1 = fig.add_subplot(3, 3,1)\n",
    "sns.boxplot(x = \"Absence\", y = 'relative_mean_score', data = final, ax = ax1, showfliers = False)\n",
    "plt.show()"
   ]
  },
  {
   "cell_type": "code",
   "execution_count": 341,
   "metadata": {},
   "outputs": [
    {
     "data": {
      "image/png": "[encoded data removed]",
      "text/plain": [
       "<Figure size 1080x864 with 1 Axes>"
      ]
     },
     "metadata": {
      "needs_background": "light"
     },
     "output_type": "display_data"
    }
   ],
   "source": [
    "# 'congrats_agree_num'\n",
    "fig = plt.figure(num = 98, figsize = (15, 12))\n",
    "ax1 = fig.add_subplot(3, 3,1)\n",
    "sns.boxplot(x = \"Absence\", y = 'congrats_agree_num', data = final, ax = ax1, showfliers = False)\n",
    "plt.show()"
   ]
  },
  {
   "cell_type": "code",
   "execution_count": 342,
   "metadata": {},
   "outputs": [
    {
     "data": {
      "image/png": "[encoded data removed]",
      "text/plain": [
       "<Figure size 1080x864 with 1 Axes>"
      ]
     },
     "metadata": {
      "needs_background": "light"
     },
     "output_type": "display_data"
    }
   ],
   "source": [
    "# 'information_agree_num'\n",
    "fig = plt.figure(num = 98, figsize = (15, 12))\n",
    "ax1 = fig.add_subplot(3, 3,1)\n",
    "sns.boxplot(x = \"Absence\", y = 'information_agree_num', data = final, ax = ax1, showfliers = False)\n",
    "plt.show()"
   ]
  },
  {
   "cell_type": "code",
   "execution_count": 343,
   "metadata": {},
   "outputs": [
    {
     "data": {
      "image/png": "[encoded data removed]",
      "text/plain": [
       "<Figure size 1080x864 with 1 Axes>"
      ]
     },
     "metadata": {
      "needs_background": "light"
     },
     "output_type": "display_data"
    }
   ],
   "source": [
    "# 'suggestion_agree_num'\n",
    "fig = plt.figure(num = 98, figsize = (15, 12))\n",
    "ax1 = fig.add_subplot(3, 3,1)\n",
    "sns.boxplot(x = \"Absence\", y = 'suggestion_agree_num', data = final, ax = ax1, showfliers = False)\n",
    "plt.show()"
   ]
  },
  {
   "cell_type": "code",
   "execution_count": 344,
   "metadata": {},
   "outputs": [
    {
     "data": {
      "image/png": "[encoded data removed]",
      "text/plain": [
       "<Figure size 1080x864 with 1 Axes>"
      ]
     },
     "metadata": {
      "needs_background": "light"
     },
     "output_type": "display_data"
    }
   ],
   "source": [
    "# 'information_disagree_num'\n",
    "fig = plt.figure(num = 98, figsize = (15, 12))\n",
    "ax1 = fig.add_subplot(3, 3,1)\n",
    "sns.boxplot(x = \"Absence\", y = 'information_disagree_num', data = final, ax = ax1, showfliers = False)\n",
    "plt.show()"
   ]
  },
  {
   "cell_type": "code",
   "execution_count": 345,
   "metadata": {},
   "outputs": [
    {
     "data": {
      "image/png": "[encoded data removed]",
      "text/plain": [
       "<Figure size 1080x864 with 1 Axes>"
      ]
     },
     "metadata": {
      "needs_background": "light"
     },
     "output_type": "display_data"
    }
   ],
   "source": [
    "# 'total_num_of_feedback'\n",
    "fig = plt.figure(num = 98, figsize = (15, 12))\n",
    "ax1 = fig.add_subplot(3, 3,1)\n",
    "sns.boxplot(x = \"Absence\", y = 'total_num_of_feedback', data = final, ax = ax1, showfliers = False)\n",
    "plt.show()"
   ]
  },
  {
   "cell_type": "code",
   "execution_count": 346,
   "metadata": {},
   "outputs": [],
   "source": [
    "# for i in range(10, 15):\n",
    "#     ax1 = fig.add_subplot(3, 3, i + 1)\n",
    "#     _ = sns.boxplot(x = \"Absence\", y = iter_cols[i], data = final, ax = ax1, showfliers = False)\n",
    "#     _ = plt.tight_layout()\n",
    "# plt.show()"
   ]
  },
  {
   "cell_type": "code",
   "execution_count": 347,
   "metadata": {},
   "outputs": [
    {
     "data": {
      "text/plain": [
       "<AxesSubplot:xlabel='relative_mean_score', ylabel='Density'>"
      ]
     },
     "execution_count": 347,
     "metadata": {},
     "output_type": "execute_result"
    },
    {
     "data": {
      "image/png": "[encoded data removed]",
      "text/plain": [
       "<Figure size 432x288 with 1 Axes>"
      ]
     },
     "metadata": {
      "needs_background": "light"
     },
     "output_type": "display_data"
    }
   ],
   "source": [
    "sns.distplot(final[final['Absence']==0]['relative_mean_score'])"
   ]
  },
  {
   "cell_type": "code",
   "execution_count": 348,
   "metadata": {},
   "outputs": [
    {
     "data": {
      "text/plain": [
       "<AxesSubplot:xlabel='relative_mean_score', ylabel='Density'>"
      ]
     },
     "execution_count": 348,
     "metadata": {},
     "output_type": "execute_result"
    },
    {
     "data": {
      "image/png": "[encoded data removed]",
      "text/plain": [
       "<Figure size 432x288 with 1 Axes>"
      ]
     },
     "metadata": {
      "needs_background": "light"
     },
     "output_type": "display_data"
    }
   ],
   "source": [
    "sns.distplot(final[final['Absence']==1]['relative_mean_score'])"
   ]
  },
  {
   "cell_type": "code",
   "execution_count": 349,
   "metadata": {},
   "outputs": [
    {
     "data": {
      "text/plain": [
       "<AxesSubplot:xlabel='no_of_votes', ylabel='Density'>"
      ]
     },
     "execution_count": 349,
     "metadata": {},
     "output_type": "execute_result"
    },
    {
     "data": {
      "image/png": "[encoded data removed]",
      "text/plain": [
       "<Figure size 432x288 with 1 Axes>"
      ]
     },
     "metadata": {
      "needs_background": "light"
     },
     "output_type": "display_data"
    }
   ],
   "source": [
    "sns.distplot(final[final['Absence']==0]['no_of_votes'])"
   ]
  },
  {
   "cell_type": "code",
   "execution_count": 350,
   "metadata": {},
   "outputs": [
    {
     "data": {
      "text/plain": [
       "<AxesSubplot:xlabel='no_of_votes', ylabel='Density'>"
      ]
     },
     "execution_count": 350,
     "metadata": {},
     "output_type": "execute_result"
    },
    {
     "data": {
      "image/png": "[encoded data removed]",
      "text/plain": [
       "<Figure size 432x288 with 1 Axes>"
      ]
     },
     "metadata": {
      "needs_background": "light"
     },
     "output_type": "display_data"
    }
   ],
   "source": [
    "sns.distplot(final[final['Absence']==1]['no_of_votes'])"
   ]
  },
  {
   "cell_type": "code",
   "execution_count": 351,
   "metadata": {},
   "outputs": [
    {
     "data": {
      "text/plain": [
       "<AxesSubplot:xlabel='total_likes', ylabel='Density'>"
      ]
     },
     "execution_count": 351,
     "metadata": {},
     "output_type": "execute_result"
    },
    {
     "data": {
      "image/png": "[encoded data removed]",
      "text/plain": [
       "<Figure size 432x288 with 1 Axes>"
      ]
     },
     "metadata": {
      "needs_background": "light"
     },
     "output_type": "display_data"
    }
   ],
   "source": [
    "sns.distplot(final[final['Absence']==0]['total_likes'])"
   ]
  },
  {
   "cell_type": "code",
   "execution_count": 352,
   "metadata": {},
   "outputs": [
    {
     "data": {
      "text/plain": [
       "<AxesSubplot:xlabel='total_likes', ylabel='Density'>"
      ]
     },
     "execution_count": 352,
     "metadata": {},
     "output_type": "execute_result"
    },
    {
     "data": {
      "image/png": "[encoded data removed]",
      "text/plain": [
       "<Figure size 432x288 with 1 Axes>"
      ]
     },
     "metadata": {
      "needs_background": "light"
     },
     "output_type": "display_data"
    }
   ],
   "source": [
    "sns.distplot(final[final['Absence']==1]['total_likes'])"
   ]
  },
  {
   "cell_type": "code",
   "execution_count": 353,
   "metadata": {},
   "outputs": [
    {
     "data": {
      "text/plain": [
       "<AxesSubplot:xlabel='total_dislikes', ylabel='Density'>"
      ]
     },
     "execution_count": 353,
     "metadata": {},
     "output_type": "execute_result"
    },
    {
     "data": {
      "image/png": "[encoded data removed]",
      "text/plain": [
       "<Figure size 432x288 with 1 Axes>"
      ]
     },
     "metadata": {
      "needs_background": "light"
     },
     "output_type": "display_data"
    }
   ],
   "source": [
    "sns.distplot(final[final['Absence']==0]['total_dislikes'])"
   ]
  },
  {
   "cell_type": "code",
   "execution_count": 354,
   "metadata": {},
   "outputs": [
    {
     "data": {
      "text/plain": [
       "<AxesSubplot:xlabel='total_dislikes', ylabel='Density'>"
      ]
     },
     "execution_count": 354,
     "metadata": {},
     "output_type": "execute_result"
    },
    {
     "data": {
      "image/png": "[encoded data removed]",
      "text/plain": [
       "<Figure size 432x288 with 1 Axes>"
      ]
     },
     "metadata": {
      "needs_background": "light"
     },
     "output_type": "display_data"
    }
   ],
   "source": [
    "sns.distplot(final[final['Absence']==1]['total_dislikes'])"
   ]
  },
  {
   "cell_type": "code",
   "execution_count": 355,
   "metadata": {},
   "outputs": [
    {
     "data": {
      "text/plain": [
       "<AxesSubplot:xlabel='congrats_agree_num', ylabel='Density'>"
      ]
     },
     "execution_count": 355,
     "metadata": {},
     "output_type": "execute_result"
    },
    {
     "data": {
      "image/png": "[encoded data removed]",
      "text/plain": [
       "<Figure size 432x288 with 1 Axes>"
      ]
     },
     "metadata": {
      "needs_background": "light"
     },
     "output_type": "display_data"
    }
   ],
   "source": [
    "sns.distplot(final[final['Absence']==0]['congrats_agree_num'])"
   ]
  },
  {
   "cell_type": "code",
   "execution_count": 356,
   "metadata": {},
   "outputs": [
    {
     "data": {
      "text/plain": [
       "<AxesSubplot:xlabel='congrats_agree_num', ylabel='Density'>"
      ]
     },
     "execution_count": 356,
     "metadata": {},
     "output_type": "execute_result"
    },
    {
     "data": {
      "image/png": "[encoded data removed]",
      "text/plain": [
       "<Figure size 432x288 with 1 Axes>"
      ]
     },
     "metadata": {
      "needs_background": "light"
     },
     "output_type": "display_data"
    }
   ],
   "source": [
    "sns.distplot(final[final['Absence']==1]['congrats_agree_num'])"
   ]
  },
  {
   "cell_type": "code",
   "execution_count": 357,
   "metadata": {},
   "outputs": [
    {
     "data": {
      "text/plain": [
       "<AxesSubplot:xlabel='congrats_disagree_num', ylabel='Density'>"
      ]
     },
     "execution_count": 357,
     "metadata": {},
     "output_type": "execute_result"
    },
    {
     "data": {
      "image/png": "[encoded data removed]",
      "text/plain": [
       "<Figure size 432x288 with 1 Axes>"
      ]
     },
     "metadata": {
      "needs_background": "light"
     },
     "output_type": "display_data"
    }
   ],
   "source": [
    "sns.distplot(final[final['Absence']==0]['congrats_disagree_num'])"
   ]
  },
  {
   "cell_type": "code",
   "execution_count": 358,
   "metadata": {},
   "outputs": [
    {
     "data": {
      "text/plain": [
       "<AxesSubplot:xlabel='congrats_disagree_num', ylabel='Density'>"
      ]
     },
     "execution_count": 358,
     "metadata": {},
     "output_type": "execute_result"
    },
    {
     "data": {
      "image/png": "[encoded data removed]",
      "text/plain": [
       "<Figure size 432x288 with 1 Axes>"
      ]
     },
     "metadata": {
      "needs_background": "light"
     },
     "output_type": "display_data"
    }
   ],
   "source": [
    "sns.distplot(final[final['Absence']==1]['congrats_disagree_num'])"
   ]
  },
  {
   "cell_type": "code",
   "execution_count": 359,
   "metadata": {},
   "outputs": [
    {
     "data": {
      "text/plain": [
       "<AxesSubplot:xlabel='suggestion_agree_num', ylabel='Density'>"
      ]
     },
     "execution_count": 359,
     "metadata": {},
     "output_type": "execute_result"
    },
    {
     "data": {
      "image/png": "[encoded data removed]",
      "text/plain": [
       "<Figure size 432x288 with 1 Axes>"
      ]
     },
     "metadata": {
      "needs_background": "light"
     },
     "output_type": "display_data"
    }
   ],
   "source": [
    "sns.distplot(final[final['Absence']==0]['suggestion_agree_num'])"
   ]
  },
  {
   "cell_type": "code",
   "execution_count": 360,
   "metadata": {},
   "outputs": [
    {
     "data": {
      "text/plain": [
       "<AxesSubplot:xlabel='suggestion_agree_num', ylabel='Density'>"
      ]
     },
     "execution_count": 360,
     "metadata": {},
     "output_type": "execute_result"
    },
    {
     "data": {
      "image/png": "[encoded data removed]",
      "text/plain": [
       "<Figure size 432x288 with 1 Axes>"
      ]
     },
     "metadata": {
      "needs_background": "light"
     },
     "output_type": "display_data"
    }
   ],
   "source": [
    "sns.distplot(final[final['Absence']==1]['suggestion_agree_num'])"
   ]
  },
  {
   "cell_type": "code",
   "execution_count": 361,
   "metadata": {},
   "outputs": [
    {
     "data": {
      "text/plain": [
       "<AxesSubplot:xlabel='suggestion_disagree_num', ylabel='Density'>"
      ]
     },
     "execution_count": 361,
     "metadata": {},
     "output_type": "execute_result"
    },
    {
     "data": {
      "image/png": "[encoded data removed]",
      "text/plain": [
       "<Figure size 432x288 with 1 Axes>"
      ]
     },
     "metadata": {
      "needs_background": "light"
     },
     "output_type": "display_data"
    }
   ],
   "source": [
    "sns.distplot(final[final['Absence']==0]['suggestion_disagree_num'])"
   ]
  },
  {
   "cell_type": "code",
   "execution_count": 362,
   "metadata": {},
   "outputs": [
    {
     "data": {
      "text/plain": [
       "<AxesSubplot:xlabel='suggestion_disagree_num', ylabel='Density'>"
      ]
     },
     "execution_count": 362,
     "metadata": {},
     "output_type": "execute_result"
    },
    {
     "data": {
      "image/png": "[encoded data removed]",
      "text/plain": [
       "<Figure size 432x288 with 1 Axes>"
      ]
     },
     "metadata": {
      "needs_background": "light"
     },
     "output_type": "display_data"
    }
   ],
   "source": [
    "sns.distplot(final[final['Absence']==1]['suggestion_disagree_num'])"
   ]
  },
  {
   "cell_type": "code",
   "execution_count": 363,
   "metadata": {},
   "outputs": [
    {
     "data": {
      "text/plain": [
       "<AxesSubplot:xlabel='information_agree_num', ylabel='Density'>"
      ]
     },
     "execution_count": 363,
     "metadata": {},
     "output_type": "execute_result"
    },
    {
     "data": {
      "image/png": "[encoded data removed]",
      "text/plain": [
       "<Figure size 432x288 with 1 Axes>"
      ]
     },
     "metadata": {
      "needs_background": "light"
     },
     "output_type": "display_data"
    }
   ],
   "source": [
    "sns.distplot(final[final['Absence']==0]['information_agree_num'])"
   ]
  },
  {
   "cell_type": "code",
   "execution_count": 364,
   "metadata": {},
   "outputs": [
    {
     "data": {
      "text/plain": [
       "<AxesSubplot:xlabel='information_agree_num', ylabel='Density'>"
      ]
     },
     "execution_count": 364,
     "metadata": {},
     "output_type": "execute_result"
    },
    {
     "data": {
      "image/png": "[encoded data removed]",
      "text/plain": [
       "<Figure size 432x288 with 1 Axes>"
      ]
     },
     "metadata": {
      "needs_background": "light"
     },
     "output_type": "display_data"
    }
   ],
   "source": [
    "sns.distplot(final[final['Absence']==1]['information_agree_num'])"
   ]
  },
  {
   "cell_type": "code",
   "execution_count": 365,
   "metadata": {},
   "outputs": [
    {
     "data": {
      "text/plain": [
       "<AxesSubplot:xlabel='information_disagree_num', ylabel='Density'>"
      ]
     },
     "execution_count": 365,
     "metadata": {},
     "output_type": "execute_result"
    },
    {
     "data": {
      "image/png": "[encoded data removed]",
      "text/plain": [
       "<Figure size 432x288 with 1 Axes>"
      ]
     },
     "metadata": {
      "needs_background": "light"
     },
     "output_type": "display_data"
    }
   ],
   "source": [
    "sns.distplot(final[final['Absence']==0]['information_disagree_num'])"
   ]
  },
  {
   "cell_type": "code",
   "execution_count": 366,
   "metadata": {},
   "outputs": [
    {
     "data": {
      "text/plain": [
       "<AxesSubplot:xlabel='information_disagree_num', ylabel='Density'>"
      ]
     },
     "execution_count": 366,
     "metadata": {},
     "output_type": "execute_result"
    },
    {
     "data": {
      "image/png": "[encoded data removed]",
      "text/plain": [
       "<Figure size 432x288 with 1 Axes>"
      ]
     },
     "metadata": {
      "needs_background": "light"
     },
     "output_type": "display_data"
    }
   ],
   "source": [
    "sns.distplot(final[final['Absence']==1]['information_disagree_num'])"
   ]
  },
  {
   "cell_type": "code",
   "execution_count": 367,
   "metadata": {},
   "outputs": [
    {
     "data": {
      "text/html": [
       "<div>\n",
       "<style scoped>\n",
       "    .dataframe tbody tr th:only-of-type {\n",
       "        vertical-align: middle;\n",
       "    }\n",
       "\n",
       "    .dataframe tbody tr th {\n",
       "        vertical-align: top;\n",
       "    }\n",
       "\n",
       "    .dataframe thead th {\n",
       "        text-align: right;\n",
       "    }\n",
       "</style>\n",
       "<table border=\"1\" class=\"dataframe\">\n",
       "  <thead>\n",
       "    <tr style=\"text-align: right;\">\n",
       "      <th></th>\n",
       "      <th>employee</th>\n",
       "      <th>month</th>\n",
       "      <th>mean_votes_score</th>\n",
       "      <th>no_of_votes</th>\n",
       "      <th>congrats_num</th>\n",
       "      <th>criticism_num</th>\n",
       "      <th>information_num</th>\n",
       "      <th>other_num</th>\n",
       "      <th>suggestion_num</th>\n",
       "      <th>total_likes</th>\n",
       "      <th>total_dislikes</th>\n",
       "      <th>congrats_agree_num</th>\n",
       "      <th>information_agree_num</th>\n",
       "      <th>other_agree_num</th>\n",
       "      <th>suggestion_agree_num</th>\n",
       "      <th>congrats_disagree_num</th>\n",
       "      <th>information_disagree_num</th>\n",
       "      <th>other_disagree_num</th>\n",
       "      <th>suggestion_disagree_num</th>\n",
       "    </tr>\n",
       "  </thead>\n",
       "  <tbody>\n",
       "    <tr>\n",
       "      <th>0</th>\n",
       "      <td>13L</td>\n",
       "      <td>6</td>\n",
       "      <td>1.0</td>\n",
       "      <td>25</td>\n",
       "      <td>NaN</td>\n",
       "      <td>NaN</td>\n",
       "      <td>NaN</td>\n",
       "      <td>NaN</td>\n",
       "      <td>NaN</td>\n",
       "      <td>NaN</td>\n",
       "      <td>NaN</td>\n",
       "      <td>7.0</td>\n",
       "      <td>28.0</td>\n",
       "      <td>0.0</td>\n",
       "      <td>0.0</td>\n",
       "      <td>1.0</td>\n",
       "      <td>1.0</td>\n",
       "      <td>1.0</td>\n",
       "      <td>1.0</td>\n",
       "    </tr>\n",
       "    <tr>\n",
       "      <th>1</th>\n",
       "      <td>13L</td>\n",
       "      <td>8</td>\n",
       "      <td>1.0</td>\n",
       "      <td>19</td>\n",
       "      <td>NaN</td>\n",
       "      <td>NaN</td>\n",
       "      <td>NaN</td>\n",
       "      <td>NaN</td>\n",
       "      <td>NaN</td>\n",
       "      <td>NaN</td>\n",
       "      <td>NaN</td>\n",
       "      <td>1.0</td>\n",
       "      <td>4.0</td>\n",
       "      <td>1.0</td>\n",
       "      <td>1.0</td>\n",
       "      <td>0.0</td>\n",
       "      <td>1.0</td>\n",
       "      <td>0.0</td>\n",
       "      <td>0.0</td>\n",
       "    </tr>\n",
       "    <tr>\n",
       "      <th>2</th>\n",
       "      <td>13L</td>\n",
       "      <td>10</td>\n",
       "      <td>1.0</td>\n",
       "      <td>22</td>\n",
       "      <td>NaN</td>\n",
       "      <td>NaN</td>\n",
       "      <td>NaN</td>\n",
       "      <td>NaN</td>\n",
       "      <td>NaN</td>\n",
       "      <td>NaN</td>\n",
       "      <td>NaN</td>\n",
       "      <td>0.0</td>\n",
       "      <td>23.0</td>\n",
       "      <td>0.0</td>\n",
       "      <td>0.0</td>\n",
       "      <td>1.0</td>\n",
       "      <td>0.0</td>\n",
       "      <td>0.0</td>\n",
       "      <td>0.0</td>\n",
       "    </tr>\n",
       "    <tr>\n",
       "      <th>3</th>\n",
       "      <td>17r</td>\n",
       "      <td>6</td>\n",
       "      <td>3.0</td>\n",
       "      <td>1</td>\n",
       "      <td>NaN</td>\n",
       "      <td>NaN</td>\n",
       "      <td>NaN</td>\n",
       "      <td>NaN</td>\n",
       "      <td>NaN</td>\n",
       "      <td>NaN</td>\n",
       "      <td>NaN</td>\n",
       "      <td>NaN</td>\n",
       "      <td>NaN</td>\n",
       "      <td>NaN</td>\n",
       "      <td>NaN</td>\n",
       "      <td>NaN</td>\n",
       "      <td>NaN</td>\n",
       "      <td>NaN</td>\n",
       "      <td>NaN</td>\n",
       "    </tr>\n",
       "    <tr>\n",
       "      <th>4</th>\n",
       "      <td>17r</td>\n",
       "      <td>8</td>\n",
       "      <td>2.0</td>\n",
       "      <td>27</td>\n",
       "      <td>NaN</td>\n",
       "      <td>NaN</td>\n",
       "      <td>NaN</td>\n",
       "      <td>NaN</td>\n",
       "      <td>NaN</td>\n",
       "      <td>NaN</td>\n",
       "      <td>NaN</td>\n",
       "      <td>0.0</td>\n",
       "      <td>1.0</td>\n",
       "      <td>0.0</td>\n",
       "      <td>0.0</td>\n",
       "      <td>0.0</td>\n",
       "      <td>0.0</td>\n",
       "      <td>0.0</td>\n",
       "      <td>0.0</td>\n",
       "    </tr>\n",
       "    <tr>\n",
       "      <th>...</th>\n",
       "      <td>...</td>\n",
       "      <td>...</td>\n",
       "      <td>...</td>\n",
       "      <td>...</td>\n",
       "      <td>...</td>\n",
       "      <td>...</td>\n",
       "      <td>...</td>\n",
       "      <td>...</td>\n",
       "      <td>...</td>\n",
       "      <td>...</td>\n",
       "      <td>...</td>\n",
       "      <td>...</td>\n",
       "      <td>...</td>\n",
       "      <td>...</td>\n",
       "      <td>...</td>\n",
       "      <td>...</td>\n",
       "      <td>...</td>\n",
       "      <td>...</td>\n",
       "      <td>...</td>\n",
       "    </tr>\n",
       "    <tr>\n",
       "      <th>892</th>\n",
       "      <td>zMY</td>\n",
       "      <td>10</td>\n",
       "      <td>2.1</td>\n",
       "      <td>20</td>\n",
       "      <td>NaN</td>\n",
       "      <td>NaN</td>\n",
       "      <td>NaN</td>\n",
       "      <td>NaN</td>\n",
       "      <td>NaN</td>\n",
       "      <td>NaN</td>\n",
       "      <td>NaN</td>\n",
       "      <td>0.0</td>\n",
       "      <td>5.0</td>\n",
       "      <td>0.0</td>\n",
       "      <td>0.0</td>\n",
       "      <td>0.0</td>\n",
       "      <td>2.0</td>\n",
       "      <td>0.0</td>\n",
       "      <td>0.0</td>\n",
       "    </tr>\n",
       "    <tr>\n",
       "      <th>893</th>\n",
       "      <td>zR7</td>\n",
       "      <td>10</td>\n",
       "      <td>4.0</td>\n",
       "      <td>24</td>\n",
       "      <td>0.0</td>\n",
       "      <td>0.0</td>\n",
       "      <td>0.0</td>\n",
       "      <td>2.0</td>\n",
       "      <td>0.0</td>\n",
       "      <td>0.0</td>\n",
       "      <td>0.0</td>\n",
       "      <td>0.0</td>\n",
       "      <td>18.0</td>\n",
       "      <td>0.0</td>\n",
       "      <td>4.0</td>\n",
       "      <td>0.0</td>\n",
       "      <td>4.0</td>\n",
       "      <td>1.0</td>\n",
       "      <td>1.0</td>\n",
       "    </tr>\n",
       "    <tr>\n",
       "      <th>894</th>\n",
       "      <td>zxx</td>\n",
       "      <td>6</td>\n",
       "      <td>3.0</td>\n",
       "      <td>2</td>\n",
       "      <td>NaN</td>\n",
       "      <td>NaN</td>\n",
       "      <td>NaN</td>\n",
       "      <td>NaN</td>\n",
       "      <td>NaN</td>\n",
       "      <td>NaN</td>\n",
       "      <td>NaN</td>\n",
       "      <td>NaN</td>\n",
       "      <td>NaN</td>\n",
       "      <td>NaN</td>\n",
       "      <td>NaN</td>\n",
       "      <td>NaN</td>\n",
       "      <td>NaN</td>\n",
       "      <td>NaN</td>\n",
       "      <td>NaN</td>\n",
       "    </tr>\n",
       "    <tr>\n",
       "      <th>895</th>\n",
       "      <td>zxx</td>\n",
       "      <td>8</td>\n",
       "      <td>4.0</td>\n",
       "      <td>8</td>\n",
       "      <td>NaN</td>\n",
       "      <td>NaN</td>\n",
       "      <td>NaN</td>\n",
       "      <td>NaN</td>\n",
       "      <td>NaN</td>\n",
       "      <td>NaN</td>\n",
       "      <td>NaN</td>\n",
       "      <td>0.0</td>\n",
       "      <td>0.0</td>\n",
       "      <td>0.0</td>\n",
       "      <td>1.0</td>\n",
       "      <td>0.0</td>\n",
       "      <td>0.0</td>\n",
       "      <td>0.0</td>\n",
       "      <td>0.0</td>\n",
       "    </tr>\n",
       "    <tr>\n",
       "      <th>896</th>\n",
       "      <td>zxx</td>\n",
       "      <td>10</td>\n",
       "      <td>3.5</td>\n",
       "      <td>6</td>\n",
       "      <td>NaN</td>\n",
       "      <td>NaN</td>\n",
       "      <td>NaN</td>\n",
       "      <td>NaN</td>\n",
       "      <td>NaN</td>\n",
       "      <td>NaN</td>\n",
       "      <td>NaN</td>\n",
       "      <td>NaN</td>\n",
       "      <td>NaN</td>\n",
       "      <td>NaN</td>\n",
       "      <td>NaN</td>\n",
       "      <td>NaN</td>\n",
       "      <td>NaN</td>\n",
       "      <td>NaN</td>\n",
       "      <td>NaN</td>\n",
       "    </tr>\n",
       "  </tbody>\n",
       "</table>\n",
       "<p>897 rows × 19 columns</p>\n",
       "</div>"
      ],
      "text/plain": [
       "    employee  month  mean_votes_score  no_of_votes  congrats_num  \\\n",
       "0        13L      6               1.0           25           NaN   \n",
       "1        13L      8               1.0           19           NaN   \n",
       "2        13L     10               1.0           22           NaN   \n",
       "3        17r      6               3.0            1           NaN   \n",
       "4        17r      8               2.0           27           NaN   \n",
       "..       ...    ...               ...          ...           ...   \n",
       "892      zMY     10               2.1           20           NaN   \n",
       "893      zR7     10               4.0           24           0.0   \n",
       "894      zxx      6               3.0            2           NaN   \n",
       "895      zxx      8               4.0            8           NaN   \n",
       "896      zxx     10               3.5            6           NaN   \n",
       "\n",
       "     criticism_num  information_num  other_num  suggestion_num  total_likes  \\\n",
       "0              NaN              NaN        NaN             NaN          NaN   \n",
       "1              NaN              NaN        NaN             NaN          NaN   \n",
       "2              NaN              NaN        NaN             NaN          NaN   \n",
       "3              NaN              NaN        NaN             NaN          NaN   \n",
       "4              NaN              NaN        NaN             NaN          NaN   \n",
       "..             ...              ...        ...             ...          ...   \n",
       "892            NaN              NaN        NaN             NaN          NaN   \n",
       "893            0.0              0.0        2.0             0.0          0.0   \n",
       "894            NaN              NaN        NaN             NaN          NaN   \n",
       "895            NaN              NaN        NaN             NaN          NaN   \n",
       "896            NaN              NaN        NaN             NaN          NaN   \n",
       "\n",
       "     total_dislikes  congrats_agree_num  information_agree_num  \\\n",
       "0               NaN                 7.0                   28.0   \n",
       "1               NaN                 1.0                    4.0   \n",
       "2               NaN                 0.0                   23.0   \n",
       "3               NaN                 NaN                    NaN   \n",
       "4               NaN                 0.0                    1.0   \n",
       "..              ...                 ...                    ...   \n",
       "892             NaN                 0.0                    5.0   \n",
       "893             0.0                 0.0                   18.0   \n",
       "894             NaN                 NaN                    NaN   \n",
       "895             NaN                 0.0                    0.0   \n",
       "896             NaN                 NaN                    NaN   \n",
       "\n",
       "     other_agree_num  suggestion_agree_num  congrats_disagree_num  \\\n",
       "0                0.0                   0.0                    1.0   \n",
       "1                1.0                   1.0                    0.0   \n",
       "2                0.0                   0.0                    1.0   \n",
       "3                NaN                   NaN                    NaN   \n",
       "4                0.0                   0.0                    0.0   \n",
       "..               ...                   ...                    ...   \n",
       "892              0.0                   0.0                    0.0   \n",
       "893              0.0                   4.0                    0.0   \n",
       "894              NaN                   NaN                    NaN   \n",
       "895              0.0                   1.0                    0.0   \n",
       "896              NaN                   NaN                    NaN   \n",
       "\n",
       "     information_disagree_num  other_disagree_num  suggestion_disagree_num  \n",
       "0                         1.0                 1.0                      1.0  \n",
       "1                         1.0                 0.0                      0.0  \n",
       "2                         0.0                 0.0                      0.0  \n",
       "3                         NaN                 NaN                      NaN  \n",
       "4                         0.0                 0.0                      0.0  \n",
       "..                        ...                 ...                      ...  \n",
       "892                       2.0                 0.0                      0.0  \n",
       "893                       4.0                 1.0                      1.0  \n",
       "894                       NaN                 NaN                      NaN  \n",
       "895                       0.0                 0.0                      0.0  \n",
       "896                       NaN                 NaN                      NaN  \n",
       "\n",
       "[897 rows x 19 columns]"
      ]
     },
     "execution_count": 367,
     "metadata": {},
     "output_type": "execute_result"
    }
   ],
   "source": [
    "X"
   ]
  },
  {
   "cell_type": "code",
   "execution_count": 368,
   "metadata": {},
   "outputs": [
    {
     "data": {
      "image/png": "[encoded data removed]",
      "text/plain": [
       "<Figure size 720x720 with 2 Axes>"
      ]
     },
     "metadata": {
      "needs_background": "light"
     },
     "output_type": "display_data"
    }
   ],
   "source": [
    "#Feature Correlation\n",
    "\n",
    "corr = X.corr()\n",
    "\n",
    "fig, ax = plt.subplots(figsize=(10,10)) \n",
    "\n",
    "ax = sns.heatmap(\n",
    "    corr, \n",
    "    vmin=-1, vmax=1, center=0,\n",
    "    cmap=sns.diverging_palette(20, 220, n=200),\n",
    "    square=True\n",
    ")\n",
    "ax.set_xticklabels(\n",
    "    ax.get_xticklabels(),\n",
    "    rotation=45,\n",
    "    horizontalalignment='right'\n",
    ");"
   ]
  },
  {
   "cell_type": "markdown",
   "metadata": {},
   "source": [
    "# Modelling"
   ]
  },
  {
   "cell_type": "markdown",
   "metadata": {},
   "source": [
    "# Absent Tagging: more than 2 days - SVM "
   ]
  },
  {
   "cell_type": "code",
   "execution_count": 369,
   "metadata": {
    "scrolled": true
   },
   "outputs": [],
   "source": [
    "################################\n",
    "## Train Test Split Approach  ##\n",
    "################################\n",
    "X = final.drop(columns = ['Absence'], axis = 1)\n",
    "y = final['Absence']\n",
    "X_stand = scale(X)\n",
    "X_train, X_test, y_train, y_test = train_test_split(X_stand, y, test_size = 0.3, random_state = 2823)\n",
    "over_sampler = RandomOverSampler(random_state=42, sampling_strategy=0.1)\n",
    "X_res, y_res = over_sampler.fit_resample(X_train, y_train)\n",
    "# oversample = SMOTE(random_state=42, sampling_strategy=0.1)\n",
    "# X_res, y_res = oversample.fit_resample(X_train, y_train)"
   ]
  },
  {
   "cell_type": "code",
   "execution_count": 370,
   "metadata": {},
   "outputs": [
    {
     "name": "stdout",
     "output_type": "stream",
     "text": [
      "Accuracy: 0.8884462151394422\n",
      "F1 score: 0.0\n",
      "Recall: 0.0\n",
      "Precision: 0.0\n",
      "\n",
      " confussion matrix:\n",
      " [[223   4]\n",
      " [ 24   0]]\n"
     ]
    }
   ],
   "source": [
    "#svc_model = SVC(C = 1.3, kernel = 'poly', random_state = 2328) \n",
    "#kernel = poly\n",
    "svc_model_poly = SVC(kernel = 'poly') #C = 1.3, kernel = 'poly', random_state = 2328) \n",
    "svc_model_poly.fit(X_res, y_res)\n",
    "svc_model_poly.score(X_test, y_test)\n",
    "prediction_poly = svc_model_poly.predict(X_test)\n",
    "\n",
    "print('Accuracy:', accuracy_score(y_test, prediction_poly))\n",
    "print('F1 score:', f1_score(y_test, prediction_poly))\n",
    "print('Recall:', recall_score(y_test, prediction_poly))\n",
    "print('Precision:', precision_score(y_test, prediction_poly))\n",
    "#print('\\n clasification report:\\n', classification_report(y_test,prediction))\n",
    "print('\\n confussion matrix:\\n',confusion_matrix(y_test, prediction_poly))"
   ]
  },
  {
   "cell_type": "code",
   "execution_count": 371,
   "metadata": {},
   "outputs": [
    {
     "data": {
      "image/png": "[encoded data removed]",
      "text/plain": [
       "<Figure size 432x288 with 2 Axes>"
      ]
     },
     "metadata": {
      "needs_background": "light"
     },
     "output_type": "display_data"
    }
   ],
   "source": [
    "plot_confusion_matrix(svc_model_poly, X_test, y_test) \n",
    "plt.xlabel('Predicted Abseentism - SVM')\n",
    "plt.ylabel('True Abseentism')\n",
    "plt.show()"
   ]
  },
  {
   "cell_type": "code",
   "execution_count": 372,
   "metadata": {},
   "outputs": [
    {
     "data": {
      "text/plain": [
       "Text(0.5, 0, 'Permutation Importance - SVM_poly model')"
      ]
     },
     "execution_count": 372,
     "metadata": {},
     "output_type": "execute_result"
    },
    {
     "data": {
      "image/png": "[encoded data removed]",
      "text/plain": [
       "<Figure size 720x720 with 1 Axes>"
      ]
     },
     "metadata": {
      "needs_background": "light"
     },
     "output_type": "display_data"
    }
   ],
   "source": [
    "perm_importance = permutation_importance(svc_model_poly, X_test, y_test)\n",
    "feature_names = ['no_of_votes', 'congrats_num', 'criticism_num', 'information_num', 'other_num',\n",
    "       'suggestion_num', 'total_likes', 'total_dislikes', 'congrats_agree_num', 'information_agree_num', 'other_agree_num', \n",
    "        'suggestion_agree_num', 'congrats_disagree_num', 'information_disagree_num', 'other_disagree_num', \n",
    "        'suggestion_disagree_num', 'Ceuta', 'chicago', 'amsterdam', 'berlin', 'madrid','moscow', \n",
    "               'likeability', 'total_num_of_feedback', 'relative_mean_score']\n",
    "features = np.array(feature_names)\n",
    "sorted_idx = perm_importance.importances_mean.argsort()\n",
    "plt.figure(figsize=(10,10))\n",
    "plt.barh(features[sorted_idx], perm_importance.importances_mean[sorted_idx], height=0.8)\n",
    "plt.xlabel(\"Permutation Importance - SVM_poly model\")\n"
   ]
  },
  {
   "cell_type": "code",
   "execution_count": 373,
   "metadata": {},
   "outputs": [
    {
     "name": "stdout",
     "output_type": "stream",
     "text": [
      "The Cross Validation Accuracy for SVM Model is  0.9235513482501434\n",
      "The Cross Validation Recall for SVM Model is  0.0\n",
      "The Cross Validation Recall for SVM Model is  0.0\n"
     ]
    }
   ],
   "source": [
    "# K fold cross validation\n",
    "svmModel = SVC(kernel = 'poly')\n",
    "cv_method = KFold(n_splits = 10, shuffle = True, random_state = 2823)\n",
    "\n",
    "svm_acc = np.mean(cross_val_score(svmModel, X, y ,cv = cv_method, scoring = 'accuracy'))\n",
    "svm_recall = np.mean(cross_val_score(svmModel, X, y ,cv = cv_method, scoring = 'recall'))\n",
    "svm_precision = np.mean(cross_val_score(svmModel, X, y ,cv = cv_method, scoring = 'precision'))\n",
    "\n",
    "\n",
    "print('The Cross Validation Accuracy for SVM Model is ', svm_acc)\n",
    "print('The Cross Validation Recall for SVM Model is ', svm_recall)\n",
    "print('The Cross Validation Recall for SVM Model is ', svm_precision)"
   ]
  },
  {
   "cell_type": "markdown",
   "metadata": {},
   "source": [
    "# Absent Tagging: more than 2 days - Random Forest Classifier "
   ]
  },
  {
   "cell_type": "code",
   "execution_count": 374,
   "metadata": {},
   "outputs": [
    {
     "name": "stdout",
     "output_type": "stream",
     "text": [
      "Accuracy: 0.8884462151394422\n",
      "Recall: 0.15\n",
      "Precision: 0.21428571428571427\n",
      "\n",
      " confussion matrix:\n",
      " [[220  11]\n",
      " [ 17   3]]\n"
     ]
    }
   ],
   "source": [
    "df = final.copy()\n",
    "\n",
    "X = final.drop(columns = ['Absence'], axis = 1)\n",
    "y = final['Absence']\n",
    "\n",
    "X_stand = scale(X)\n",
    "\n",
    "X_train, X_test, y_train, y_test = train_test_split(X_stand, y, test_size = 0.3, random_state = 0)\n",
    "X_test_df = pd.DataFrame(X_stand)\n",
    "X_test_df.columns = X.columns\n",
    "X_test_df\n",
    "\n",
    "oversample = RandomOverSampler(random_state=42, sampling_strategy=1)\n",
    "#oversample = SMOTE(random_state=42, sampling_strategy=0.7)\n",
    "X_res, y_res = oversample.fit_resample(X_train, y_train)\n",
    "\n",
    "clf=RandomForestClassifier()\n",
    "\n",
    "clf.fit(X_res, y_res)\n",
    "y_pred=clf.predict(X_test)\n",
    "\n",
    "import shap\n",
    "explainer = shap.TreeExplainer(clf)\n",
    "#svm_explainer = shap.TreeExplainer(clf.predict,X_test)\n",
    "shap_values = explainer.shap_values(X_test)\n",
    "\n",
    "print('Accuracy:', accuracy_score(y_test, y_pred))\n",
    "print('Recall:', recall_score(y_test, y_pred))\n",
    "print('Precision:', precision_score(y_test, y_pred))\n",
    "#print('\\n clasification report:\\n', classification_report(y_test,y_pred))\n",
    "print('\\n confussion matrix:\\n',confusion_matrix(y_test, y_pred))\n"
   ]
  },
  {
   "cell_type": "code",
   "execution_count": 375,
   "metadata": {},
   "outputs": [
    {
     "data": {
      "text/plain": [
       "0    0.924641\n",
       "1    0.075359\n",
       "Name: Absence, dtype: float64"
      ]
     },
     "execution_count": 375,
     "metadata": {},
     "output_type": "execute_result"
    }
   ],
   "source": [
    "#Class Imbalance\n",
    "final['Absence'].value_counts()/(final['Absence'].value_counts()[0] + final['Absence'].value_counts()[1])"
   ]
  },
  {
   "cell_type": "code",
   "execution_count": 376,
   "metadata": {},
   "outputs": [
    {
     "data": {
      "image/png": "[encoded data removed]",
      "text/plain": [
       "<Figure size 432x288 with 2 Axes>"
      ]
     },
     "metadata": {
      "needs_background": "light"
     },
     "output_type": "display_data"
    }
   ],
   "source": [
    "#confusion matrix\n",
    "plot_confusion_matrix(clf, X_test, y_test) \n",
    "plt.xlabel('Predicted Abseentism - Random Forest')\n",
    "plt.ylabel('True Abseentism')\n",
    "plt.show()"
   ]
  },
  {
   "cell_type": "code",
   "execution_count": 377,
   "metadata": {},
   "outputs": [
    {
     "data": {
      "text/plain": [
       "Text(0.5, 0, 'Random Forest Feature Importance')"
      ]
     },
     "execution_count": 377,
     "metadata": {},
     "output_type": "execute_result"
    },
    {
     "data": {
      "image/png": "[encoded data removed]",
      "text/plain": [
       "<Figure size 720x720 with 1 Axes>"
      ]
     },
     "metadata": {
      "needs_background": "light"
     },
     "output_type": "display_data"
    }
   ],
   "source": [
    "# Feature Importance\n",
    "clf.feature_importances_\n",
    "sorted_features = clf.feature_importances_.argsort()\n",
    "plt.figure(figsize=(10,10))\n",
    "plt.barh(X.columns[sorted_features],clf.feature_importances_[sorted_features], height=0.8)\n",
    "\n",
    "plt.xlabel(\"Random Forest Feature Importance\")"
   ]
  },
  {
   "cell_type": "code",
   "execution_count": 378,
   "metadata": {},
   "outputs": [
    {
     "data": {
      "image/png": "[encoded data removed]",
      "text/plain": [
       "<Figure size 576x684 with 1 Axes>"
      ]
     },
     "metadata": {
      "needs_background": "light"
     },
     "output_type": "display_data"
    }
   ],
   "source": [
    "#shap values\n",
    "shap.summary_plot(shap_values, X_test_df)"
   ]
  },
  {
   "cell_type": "code",
   "execution_count": 379,
   "metadata": {},
   "outputs": [
    {
     "name": "stdout",
     "output_type": "stream",
     "text": [
      "The Cross Validation Accuracy for Random Forest Model is  0.9259179575444637\n",
      "The Cross Validation Recall for Random Forest Model is  0.10277777777777777\n",
      "The Cross Validation Recall for Random Forest Model is  0.5033333333333333\n"
     ]
    }
   ],
   "source": [
    "# K fold cross validation\n",
    "RFModel=RandomForestClassifier()\n",
    "cv_method = KFold(n_splits = 10, shuffle = True, random_state = 2823)\n",
    "\n",
    "svm_acc = np.mean(cross_val_score(RFModel, X, y ,cv = cv_method, scoring = 'accuracy'))\n",
    "svm_recall = np.mean(cross_val_score(RFModel, X, y ,cv = cv_method, scoring = 'recall'))\n",
    "svm_precision = np.mean(cross_val_score(RFModel, X, y ,cv = cv_method, scoring = 'precision'))\n",
    "\n",
    "print('The Cross Validation Accuracy for Random Forest Model is ', svm_acc)\n",
    "print('The Cross Validation Recall for Random Forest Model is ', svm_recall)\n",
    "print('The Cross Validation Recall for Random Forest Model is ', svm_precision)"
   ]
  },
  {
   "cell_type": "markdown",
   "metadata": {},
   "source": [
    "# Absent Tagging: less than 20 days"
   ]
  },
  {
   "cell_type": "code",
   "execution_count": 380,
   "metadata": {},
   "outputs": [
    {
     "name": "stdout",
     "output_type": "stream",
     "text": [
      "(897, 11)\n",
      "(897, 19)\n",
      "(902, 20)\n",
      "(902, 35)\n"
     ]
    },
    {
     "data": {
      "text/html": [
       "<div>\n",
       "<style scoped>\n",
       "    .dataframe tbody tr th:only-of-type {\n",
       "        vertical-align: middle;\n",
       "    }\n",
       "\n",
       "    .dataframe tbody tr th {\n",
       "        vertical-align: top;\n",
       "    }\n",
       "\n",
       "    .dataframe thead th {\n",
       "        text-align: right;\n",
       "    }\n",
       "</style>\n",
       "<table border=\"1\" class=\"dataframe\">\n",
       "  <thead>\n",
       "    <tr style=\"text-align: right;\">\n",
       "      <th></th>\n",
       "      <th>no_of_votes</th>\n",
       "      <th>congrats_num</th>\n",
       "      <th>criticism_num</th>\n",
       "      <th>information_num</th>\n",
       "      <th>other_num</th>\n",
       "      <th>suggestion_num</th>\n",
       "      <th>total_likes</th>\n",
       "      <th>total_dislikes</th>\n",
       "      <th>congrats_agree_num</th>\n",
       "      <th>information_agree_num</th>\n",
       "      <th>...</th>\n",
       "      <th>Ceuta</th>\n",
       "      <th>chicago</th>\n",
       "      <th>amsterdam</th>\n",
       "      <th>berlin</th>\n",
       "      <th>madrid</th>\n",
       "      <th>moscow</th>\n",
       "      <th>Absence</th>\n",
       "      <th>likeability</th>\n",
       "      <th>total_num_of_feedback</th>\n",
       "      <th>relative_mean_score</th>\n",
       "    </tr>\n",
       "  </thead>\n",
       "  <tbody>\n",
       "    <tr>\n",
       "      <th>0</th>\n",
       "      <td>25</td>\n",
       "      <td>0.0</td>\n",
       "      <td>0.0</td>\n",
       "      <td>0.0</td>\n",
       "      <td>0.0</td>\n",
       "      <td>0.0</td>\n",
       "      <td>0.0</td>\n",
       "      <td>0.0</td>\n",
       "      <td>7.0</td>\n",
       "      <td>28.0</td>\n",
       "      <td>...</td>\n",
       "      <td>0</td>\n",
       "      <td>0</td>\n",
       "      <td>0</td>\n",
       "      <td>1</td>\n",
       "      <td>0</td>\n",
       "      <td>0</td>\n",
       "      <td>0</td>\n",
       "      <td>0.0</td>\n",
       "      <td>0.0</td>\n",
       "      <td>0.351049</td>\n",
       "    </tr>\n",
       "    <tr>\n",
       "      <th>1</th>\n",
       "      <td>19</td>\n",
       "      <td>0.0</td>\n",
       "      <td>0.0</td>\n",
       "      <td>0.0</td>\n",
       "      <td>0.0</td>\n",
       "      <td>0.0</td>\n",
       "      <td>0.0</td>\n",
       "      <td>0.0</td>\n",
       "      <td>1.0</td>\n",
       "      <td>4.0</td>\n",
       "      <td>...</td>\n",
       "      <td>0</td>\n",
       "      <td>0</td>\n",
       "      <td>0</td>\n",
       "      <td>1</td>\n",
       "      <td>0</td>\n",
       "      <td>0</td>\n",
       "      <td>0</td>\n",
       "      <td>0.0</td>\n",
       "      <td>0.0</td>\n",
       "      <td>0.351049</td>\n",
       "    </tr>\n",
       "    <tr>\n",
       "      <th>2</th>\n",
       "      <td>22</td>\n",
       "      <td>0.0</td>\n",
       "      <td>0.0</td>\n",
       "      <td>0.0</td>\n",
       "      <td>0.0</td>\n",
       "      <td>0.0</td>\n",
       "      <td>0.0</td>\n",
       "      <td>0.0</td>\n",
       "      <td>0.0</td>\n",
       "      <td>23.0</td>\n",
       "      <td>...</td>\n",
       "      <td>0</td>\n",
       "      <td>0</td>\n",
       "      <td>0</td>\n",
       "      <td>1</td>\n",
       "      <td>0</td>\n",
       "      <td>0</td>\n",
       "      <td>0</td>\n",
       "      <td>0.0</td>\n",
       "      <td>0.0</td>\n",
       "      <td>0.351049</td>\n",
       "    </tr>\n",
       "    <tr>\n",
       "      <th>3</th>\n",
       "      <td>1</td>\n",
       "      <td>0.0</td>\n",
       "      <td>0.0</td>\n",
       "      <td>0.0</td>\n",
       "      <td>0.0</td>\n",
       "      <td>0.0</td>\n",
       "      <td>0.0</td>\n",
       "      <td>0.0</td>\n",
       "      <td>0.0</td>\n",
       "      <td>0.0</td>\n",
       "      <td>...</td>\n",
       "      <td>0</td>\n",
       "      <td>0</td>\n",
       "      <td>0</td>\n",
       "      <td>0</td>\n",
       "      <td>1</td>\n",
       "      <td>0</td>\n",
       "      <td>0</td>\n",
       "      <td>0.0</td>\n",
       "      <td>0.0</td>\n",
       "      <td>1.053147</td>\n",
       "    </tr>\n",
       "    <tr>\n",
       "      <th>4</th>\n",
       "      <td>27</td>\n",
       "      <td>0.0</td>\n",
       "      <td>0.0</td>\n",
       "      <td>0.0</td>\n",
       "      <td>0.0</td>\n",
       "      <td>0.0</td>\n",
       "      <td>0.0</td>\n",
       "      <td>0.0</td>\n",
       "      <td>0.0</td>\n",
       "      <td>1.0</td>\n",
       "      <td>...</td>\n",
       "      <td>0</td>\n",
       "      <td>0</td>\n",
       "      <td>0</td>\n",
       "      <td>0</td>\n",
       "      <td>1</td>\n",
       "      <td>0</td>\n",
       "      <td>1</td>\n",
       "      <td>0.0</td>\n",
       "      <td>0.0</td>\n",
       "      <td>0.702098</td>\n",
       "    </tr>\n",
       "    <tr>\n",
       "      <th>...</th>\n",
       "      <td>...</td>\n",
       "      <td>...</td>\n",
       "      <td>...</td>\n",
       "      <td>...</td>\n",
       "      <td>...</td>\n",
       "      <td>...</td>\n",
       "      <td>...</td>\n",
       "      <td>...</td>\n",
       "      <td>...</td>\n",
       "      <td>...</td>\n",
       "      <td>...</td>\n",
       "      <td>...</td>\n",
       "      <td>...</td>\n",
       "      <td>...</td>\n",
       "      <td>...</td>\n",
       "      <td>...</td>\n",
       "      <td>...</td>\n",
       "      <td>...</td>\n",
       "      <td>...</td>\n",
       "      <td>...</td>\n",
       "      <td>...</td>\n",
       "    </tr>\n",
       "    <tr>\n",
       "      <th>896</th>\n",
       "      <td>23</td>\n",
       "      <td>0.0</td>\n",
       "      <td>0.0</td>\n",
       "      <td>0.0</td>\n",
       "      <td>0.0</td>\n",
       "      <td>0.0</td>\n",
       "      <td>0.0</td>\n",
       "      <td>0.0</td>\n",
       "      <td>1.0</td>\n",
       "      <td>0.0</td>\n",
       "      <td>...</td>\n",
       "      <td>0</td>\n",
       "      <td>0</td>\n",
       "      <td>0</td>\n",
       "      <td>0</td>\n",
       "      <td>1</td>\n",
       "      <td>0</td>\n",
       "      <td>0</td>\n",
       "      <td>0.0</td>\n",
       "      <td>0.0</td>\n",
       "      <td>1.404196</td>\n",
       "    </tr>\n",
       "    <tr>\n",
       "      <th>897</th>\n",
       "      <td>20</td>\n",
       "      <td>0.0</td>\n",
       "      <td>0.0</td>\n",
       "      <td>0.0</td>\n",
       "      <td>0.0</td>\n",
       "      <td>0.0</td>\n",
       "      <td>0.0</td>\n",
       "      <td>0.0</td>\n",
       "      <td>0.0</td>\n",
       "      <td>5.0</td>\n",
       "      <td>...</td>\n",
       "      <td>0</td>\n",
       "      <td>0</td>\n",
       "      <td>0</td>\n",
       "      <td>0</td>\n",
       "      <td>1</td>\n",
       "      <td>0</td>\n",
       "      <td>0</td>\n",
       "      <td>0.0</td>\n",
       "      <td>0.0</td>\n",
       "      <td>0.737203</td>\n",
       "    </tr>\n",
       "    <tr>\n",
       "      <th>899</th>\n",
       "      <td>2</td>\n",
       "      <td>0.0</td>\n",
       "      <td>0.0</td>\n",
       "      <td>0.0</td>\n",
       "      <td>0.0</td>\n",
       "      <td>0.0</td>\n",
       "      <td>0.0</td>\n",
       "      <td>0.0</td>\n",
       "      <td>0.0</td>\n",
       "      <td>0.0</td>\n",
       "      <td>...</td>\n",
       "      <td>0</td>\n",
       "      <td>0</td>\n",
       "      <td>0</td>\n",
       "      <td>0</td>\n",
       "      <td>1</td>\n",
       "      <td>0</td>\n",
       "      <td>0</td>\n",
       "      <td>0.0</td>\n",
       "      <td>0.0</td>\n",
       "      <td>1.053147</td>\n",
       "    </tr>\n",
       "    <tr>\n",
       "      <th>900</th>\n",
       "      <td>8</td>\n",
       "      <td>0.0</td>\n",
       "      <td>0.0</td>\n",
       "      <td>0.0</td>\n",
       "      <td>0.0</td>\n",
       "      <td>0.0</td>\n",
       "      <td>0.0</td>\n",
       "      <td>0.0</td>\n",
       "      <td>0.0</td>\n",
       "      <td>0.0</td>\n",
       "      <td>...</td>\n",
       "      <td>0</td>\n",
       "      <td>0</td>\n",
       "      <td>0</td>\n",
       "      <td>0</td>\n",
       "      <td>1</td>\n",
       "      <td>0</td>\n",
       "      <td>0</td>\n",
       "      <td>0.0</td>\n",
       "      <td>0.0</td>\n",
       "      <td>1.404196</td>\n",
       "    </tr>\n",
       "    <tr>\n",
       "      <th>901</th>\n",
       "      <td>6</td>\n",
       "      <td>0.0</td>\n",
       "      <td>0.0</td>\n",
       "      <td>0.0</td>\n",
       "      <td>0.0</td>\n",
       "      <td>0.0</td>\n",
       "      <td>0.0</td>\n",
       "      <td>0.0</td>\n",
       "      <td>0.0</td>\n",
       "      <td>0.0</td>\n",
       "      <td>...</td>\n",
       "      <td>0</td>\n",
       "      <td>0</td>\n",
       "      <td>0</td>\n",
       "      <td>0</td>\n",
       "      <td>1</td>\n",
       "      <td>0</td>\n",
       "      <td>0</td>\n",
       "      <td>0.0</td>\n",
       "      <td>0.0</td>\n",
       "      <td>1.228671</td>\n",
       "    </tr>\n",
       "  </tbody>\n",
       "</table>\n",
       "<p>836 rows × 27 columns</p>\n",
       "</div>"
      ],
      "text/plain": [
       "     no_of_votes  congrats_num  criticism_num  information_num  other_num  \\\n",
       "0             25           0.0            0.0              0.0        0.0   \n",
       "1             19           0.0            0.0              0.0        0.0   \n",
       "2             22           0.0            0.0              0.0        0.0   \n",
       "3              1           0.0            0.0              0.0        0.0   \n",
       "4             27           0.0            0.0              0.0        0.0   \n",
       "..           ...           ...            ...              ...        ...   \n",
       "896           23           0.0            0.0              0.0        0.0   \n",
       "897           20           0.0            0.0              0.0        0.0   \n",
       "899            2           0.0            0.0              0.0        0.0   \n",
       "900            8           0.0            0.0              0.0        0.0   \n",
       "901            6           0.0            0.0              0.0        0.0   \n",
       "\n",
       "     suggestion_num  total_likes  total_dislikes  congrats_agree_num  \\\n",
       "0               0.0          0.0             0.0                 7.0   \n",
       "1               0.0          0.0             0.0                 1.0   \n",
       "2               0.0          0.0             0.0                 0.0   \n",
       "3               0.0          0.0             0.0                 0.0   \n",
       "4               0.0          0.0             0.0                 0.0   \n",
       "..              ...          ...             ...                 ...   \n",
       "896             0.0          0.0             0.0                 1.0   \n",
       "897             0.0          0.0             0.0                 0.0   \n",
       "899             0.0          0.0             0.0                 0.0   \n",
       "900             0.0          0.0             0.0                 0.0   \n",
       "901             0.0          0.0             0.0                 0.0   \n",
       "\n",
       "     information_agree_num  ...  Ceuta  chicago  amsterdam  berlin  madrid  \\\n",
       "0                     28.0  ...      0        0          0       1       0   \n",
       "1                      4.0  ...      0        0          0       1       0   \n",
       "2                     23.0  ...      0        0          0       1       0   \n",
       "3                      0.0  ...      0        0          0       0       1   \n",
       "4                      1.0  ...      0        0          0       0       1   \n",
       "..                     ...  ...    ...      ...        ...     ...     ...   \n",
       "896                    0.0  ...      0        0          0       0       1   \n",
       "897                    5.0  ...      0        0          0       0       1   \n",
       "899                    0.0  ...      0        0          0       0       1   \n",
       "900                    0.0  ...      0        0          0       0       1   \n",
       "901                    0.0  ...      0        0          0       0       1   \n",
       "\n",
       "     moscow  Absence  likeability  total_num_of_feedback  relative_mean_score  \n",
       "0         0        0          0.0                    0.0             0.351049  \n",
       "1         0        0          0.0                    0.0             0.351049  \n",
       "2         0        0          0.0                    0.0             0.351049  \n",
       "3         0        0          0.0                    0.0             1.053147  \n",
       "4         0        1          0.0                    0.0             0.702098  \n",
       "..      ...      ...          ...                    ...                  ...  \n",
       "896       0        0          0.0                    0.0             1.404196  \n",
       "897       0        0          0.0                    0.0             0.737203  \n",
       "899       0        0          0.0                    0.0             1.053147  \n",
       "900       0        0          0.0                    0.0             1.404196  \n",
       "901       0        0          0.0                    0.0             1.228671  \n",
       "\n",
       "[836 rows x 27 columns]"
      ]
     },
     "execution_count": 380,
     "metadata": {},
     "output_type": "execute_result"
    }
   ],
   "source": [
    "# convert the dataframe into a proper Y-like dataframe, i.e. employee id - month - label\n",
    "Y_temp = pd.merge(emp_absen, temp2.rename(columns = {'num_days': 'ave_days'}), how = 'left')\n",
    "Y_temp['Absence'] = Y_temp['num_days'] < 20 # Y_temp['ave_days']    ## open to change the benchmarking here ##\n",
    "Y_2weeks = Y_temp[['employee', 'month', 'Absence']]\n",
    "Y.head()\n",
    "\n",
    "X1 = pd.merge(votes_X, commnet_X,  how = 'left')\n",
    "print(X1.shape)\n",
    "X = pd.merge(X1, inter_X, how = 'left')\n",
    "print(X.shape)\n",
    "final1 = pd.merge(X, Y_2weeks, how = 'left')\n",
    "print(final1.shape)\n",
    "final2 = pd.merge(final1, lastParticipationExists_v2, left_on = 'employee', right_on = 'employee',  how = 'left')\n",
    "print(final2.shape)\n",
    "final = final2.copy()\n",
    "\n",
    "final['Absence'].fillna('False', inplace = True)\n",
    "#final = final.drop(columns = ['employee', 'month'], axis = 1)\n",
    "final['Absence'] = [1 if i == True else 0 for i in final['Absence']]\n",
    "final = final[final['stillExists'] == True]\n",
    "\n",
    "final['total_likes'].value_counts()\n",
    "\n",
    "final['likeability'] = final['total_likes'] != 0\n",
    "final['likeability'] = final['likeability'].astype(int)\n",
    "final['likeability'] \n",
    "\n",
    "final.loc[final['total_likes']==0, 'likeability'] = 0 \n",
    "final.loc[final['total_likes']!=0, 'likeability'] = final['total_likes']/(final['total_likes'] + final['total_dislikes'])\n",
    "\n",
    "final['total_num_of_feedback'] = final['congrats_num'] + final['criticism_num'] + final['information_num'] + final['other_num'] + final['suggestion_num']\n",
    "final['total_num_of_feedback']\n",
    "\n",
    "final['relative_mean_score'] = final['mean_votes_score']/np.mean(final['mean_votes_score'])\n",
    "\n",
    "final = final[['no_of_votes', 'congrats_num', 'criticism_num', 'information_num', 'other_num',\n",
    "       'suggestion_num', 'total_likes', 'total_dislikes', 'congrats_agree_num', 'information_agree_num', 'other_agree_num', \n",
    "        'suggestion_agree_num', 'congrats_disagree_num', 'information_disagree_num', 'other_disagree_num', \n",
    "        'suggestion_disagree_num', 'Ceuta', 'chicago', 'amsterdam', 'berlin', 'madrid','moscow','Absence', \n",
    "               'likeability', 'total_num_of_feedback', 'relative_mean_score']]\n",
    "            \n",
    "final = final.fillna(0)\n",
    "final"
   ]
  },
  {
   "cell_type": "code",
   "execution_count": 381,
   "metadata": {},
   "outputs": [
    {
     "data": {
      "text/plain": [
       "0    0.946172\n",
       "1    0.053828\n",
       "Name: Absence, dtype: float64"
      ]
     },
     "execution_count": 381,
     "metadata": {},
     "output_type": "execute_result"
    }
   ],
   "source": [
    "#Class Imbalance\n",
    "final['Absence'].value_counts()/(final['Absence'].value_counts()[0] + final['Absence'].value_counts()[1])"
   ]
  },
  {
   "cell_type": "code",
   "execution_count": 382,
   "metadata": {},
   "outputs": [
    {
     "name": "stdout",
     "output_type": "stream",
     "text": [
      "Accuracy: 0.9482071713147411\n",
      "Recall: 0.08333333333333333\n",
      "Precision: 0.3333333333333333\n",
      "\n",
      " confussion matrix:\n",
      " [[237   2]\n",
      " [ 11   1]]\n"
     ]
    }
   ],
   "source": [
    "df = final.copy()\n",
    "\n",
    "X = final.drop(columns = ['Absence'], axis = 1)\n",
    "y = final['Absence']\n",
    "\n",
    "X_stand = scale(X)\n",
    "\n",
    "X_train, X_test, y_train, y_test = train_test_split(X_stand, y, test_size = 0.3, random_state = 0)\n",
    "X_test_df = pd.DataFrame(X_stand)\n",
    "X_test_df.columns = X.columns\n",
    "X_test_df\n",
    "\n",
    "oversample = RandomOverSampler(random_state=42, sampling_strategy=1)\n",
    "#oversample = SMOTE(random_state=42, sampling_strategy=0.1)\n",
    "X_res, y_res = oversample.fit_resample(X_train, y_train)\n",
    "\n",
    "clf=RandomForestClassifier()\n",
    "\n",
    "clf.fit(X_res, y_res)\n",
    "y_pred=clf.predict(X_test)\n",
    "\n",
    "print('Accuracy:', accuracy_score(y_test, y_pred))\n",
    "print('Recall:', recall_score(y_test, y_pred))\n",
    "print('Precision:', precision_score(y_test, y_pred))\n",
    "#print('\\n clasification report:\\n', classification_report(y_test,y_pred))\n",
    "print('\\n confussion matrix:\\n',confusion_matrix(y_test, y_pred))\n",
    "\n",
    "import shap\n",
    "explainer = shap.TreeExplainer(clf)\n",
    "#svm_explainer = shap.TreeExplainer(clf.predict,X_test)\n",
    "shap_values = explainer.shap_values(X_test)"
   ]
  },
  {
   "cell_type": "code",
   "execution_count": 383,
   "metadata": {},
   "outputs": [
    {
     "data": {
      "image/png": "[encoded data removed]",
      "text/plain": [
       "<Figure size 432x288 with 2 Axes>"
      ]
     },
     "metadata": {
      "needs_background": "light"
     },
     "output_type": "display_data"
    }
   ],
   "source": [
    "plot_confusion_matrix(clf, X_test, y_test) \n",
    "plt.xlabel('Predicted Abseentism')\n",
    "plt.ylabel('True Abseentism')\n",
    "plt.show()"
   ]
  },
  {
   "cell_type": "code",
   "execution_count": 384,
   "metadata": {},
   "outputs": [
    {
     "data": {
      "text/plain": [
       "Text(0.5, 0, 'Random Forest Feature Importance')"
      ]
     },
     "execution_count": 384,
     "metadata": {},
     "output_type": "execute_result"
    },
    {
     "data": {
      "image/png": "[encoded data removed]",
      "text/plain": [
       "<Figure size 720x720 with 1 Axes>"
      ]
     },
     "metadata": {
      "needs_background": "light"
     },
     "output_type": "display_data"
    }
   ],
   "source": [
    "clf.feature_importances_\n",
    "sorted_features = clf.feature_importances_.argsort()\n",
    "plt.figure(figsize=(10,10))\n",
    "plt.barh(X.columns[sorted_features],clf.feature_importances_[sorted_features])\n",
    "plt.xlabel(\"Random Forest Feature Importance\")"
   ]
  },
  {
   "cell_type": "code",
   "execution_count": 385,
   "metadata": {},
   "outputs": [
    {
     "data": {
      "image/png": "[encoded data removed]",
      "text/plain": [
       "<Figure size 576x684 with 1 Axes>"
      ]
     },
     "metadata": {
      "needs_background": "light"
     },
     "output_type": "display_data"
    }
   ],
   "source": [
    "shap.summary_plot(shap_values, X_test_df)"
   ]
  },
  {
   "cell_type": "code",
   "execution_count": 386,
   "metadata": {},
   "outputs": [
    {
     "name": "stdout",
     "output_type": "stream",
     "text": [
      "The Cross Validation Accuracy for Random Forest Model is  0.9486087205966722\n",
      "The Cross Validation Recall for Random Forest Model is  0.16166666666666665\n",
      "The Cross Validation Recall for Random Forest Model is  0.425\n"
     ]
    }
   ],
   "source": [
    "# K fold cross validation\n",
    "RFModel=RandomForestClassifier()\n",
    "cv_method = KFold(n_splits = 10, shuffle = True, random_state = 2823)\n",
    "\n",
    "svm_acc = np.mean(cross_val_score(RFModel, X, y ,cv = cv_method, scoring = 'accuracy'))\n",
    "svm_recall = np.mean(cross_val_score(RFModel, X, y ,cv = cv_method, scoring = 'recall'))\n",
    "svm_precision = np.mean(cross_val_score(RFModel, X, y ,cv = cv_method, scoring = 'precision'))\n",
    "\n",
    "print('The Cross Validation Accuracy for Random Forest Model is ', svm_acc)\n",
    "print('The Cross Validation Recall for Random Forest Model is ', svm_recall)\n",
    "print('The Cross Validation Recall for Random Forest Model is ', svm_precision)"
   ]
  },
  {
   "cell_type": "markdown",
   "metadata": {},
   "source": [
    "# Absent Tagging: more than 20 days"
   ]
  },
  {
   "cell_type": "code",
   "execution_count": 387,
   "metadata": {},
   "outputs": [
    {
     "name": "stdout",
     "output_type": "stream",
     "text": [
      "(897, 11)\n",
      "(897, 19)\n",
      "(902, 20)\n",
      "(902, 35)\n"
     ]
    },
    {
     "data": {
      "text/html": [
       "<div>\n",
       "<style scoped>\n",
       "    .dataframe tbody tr th:only-of-type {\n",
       "        vertical-align: middle;\n",
       "    }\n",
       "\n",
       "    .dataframe tbody tr th {\n",
       "        vertical-align: top;\n",
       "    }\n",
       "\n",
       "    .dataframe thead th {\n",
       "        text-align: right;\n",
       "    }\n",
       "</style>\n",
       "<table border=\"1\" class=\"dataframe\">\n",
       "  <thead>\n",
       "    <tr style=\"text-align: right;\">\n",
       "      <th></th>\n",
       "      <th>no_of_votes</th>\n",
       "      <th>congrats_num</th>\n",
       "      <th>criticism_num</th>\n",
       "      <th>information_num</th>\n",
       "      <th>other_num</th>\n",
       "      <th>suggestion_num</th>\n",
       "      <th>total_likes</th>\n",
       "      <th>total_dislikes</th>\n",
       "      <th>congrats_agree_num</th>\n",
       "      <th>information_agree_num</th>\n",
       "      <th>...</th>\n",
       "      <th>Ceuta</th>\n",
       "      <th>chicago</th>\n",
       "      <th>amsterdam</th>\n",
       "      <th>berlin</th>\n",
       "      <th>madrid</th>\n",
       "      <th>moscow</th>\n",
       "      <th>Absence</th>\n",
       "      <th>likeability</th>\n",
       "      <th>total_num_of_feedback</th>\n",
       "      <th>relative_mean_score</th>\n",
       "    </tr>\n",
       "  </thead>\n",
       "  <tbody>\n",
       "    <tr>\n",
       "      <th>0</th>\n",
       "      <td>25</td>\n",
       "      <td>0.0</td>\n",
       "      <td>0.0</td>\n",
       "      <td>0.0</td>\n",
       "      <td>0.0</td>\n",
       "      <td>0.0</td>\n",
       "      <td>0.0</td>\n",
       "      <td>0.0</td>\n",
       "      <td>7.0</td>\n",
       "      <td>28.0</td>\n",
       "      <td>...</td>\n",
       "      <td>0</td>\n",
       "      <td>0</td>\n",
       "      <td>0</td>\n",
       "      <td>1</td>\n",
       "      <td>0</td>\n",
       "      <td>0</td>\n",
       "      <td>0</td>\n",
       "      <td>0.0</td>\n",
       "      <td>0.0</td>\n",
       "      <td>0.351049</td>\n",
       "    </tr>\n",
       "    <tr>\n",
       "      <th>1</th>\n",
       "      <td>19</td>\n",
       "      <td>0.0</td>\n",
       "      <td>0.0</td>\n",
       "      <td>0.0</td>\n",
       "      <td>0.0</td>\n",
       "      <td>0.0</td>\n",
       "      <td>0.0</td>\n",
       "      <td>0.0</td>\n",
       "      <td>1.0</td>\n",
       "      <td>4.0</td>\n",
       "      <td>...</td>\n",
       "      <td>0</td>\n",
       "      <td>0</td>\n",
       "      <td>0</td>\n",
       "      <td>1</td>\n",
       "      <td>0</td>\n",
       "      <td>0</td>\n",
       "      <td>0</td>\n",
       "      <td>0.0</td>\n",
       "      <td>0.0</td>\n",
       "      <td>0.351049</td>\n",
       "    </tr>\n",
       "    <tr>\n",
       "      <th>2</th>\n",
       "      <td>22</td>\n",
       "      <td>0.0</td>\n",
       "      <td>0.0</td>\n",
       "      <td>0.0</td>\n",
       "      <td>0.0</td>\n",
       "      <td>0.0</td>\n",
       "      <td>0.0</td>\n",
       "      <td>0.0</td>\n",
       "      <td>0.0</td>\n",
       "      <td>23.0</td>\n",
       "      <td>...</td>\n",
       "      <td>0</td>\n",
       "      <td>0</td>\n",
       "      <td>0</td>\n",
       "      <td>1</td>\n",
       "      <td>0</td>\n",
       "      <td>0</td>\n",
       "      <td>0</td>\n",
       "      <td>0.0</td>\n",
       "      <td>0.0</td>\n",
       "      <td>0.351049</td>\n",
       "    </tr>\n",
       "    <tr>\n",
       "      <th>3</th>\n",
       "      <td>1</td>\n",
       "      <td>0.0</td>\n",
       "      <td>0.0</td>\n",
       "      <td>0.0</td>\n",
       "      <td>0.0</td>\n",
       "      <td>0.0</td>\n",
       "      <td>0.0</td>\n",
       "      <td>0.0</td>\n",
       "      <td>0.0</td>\n",
       "      <td>0.0</td>\n",
       "      <td>...</td>\n",
       "      <td>0</td>\n",
       "      <td>0</td>\n",
       "      <td>0</td>\n",
       "      <td>0</td>\n",
       "      <td>1</td>\n",
       "      <td>0</td>\n",
       "      <td>0</td>\n",
       "      <td>0.0</td>\n",
       "      <td>0.0</td>\n",
       "      <td>1.053147</td>\n",
       "    </tr>\n",
       "    <tr>\n",
       "      <th>4</th>\n",
       "      <td>27</td>\n",
       "      <td>0.0</td>\n",
       "      <td>0.0</td>\n",
       "      <td>0.0</td>\n",
       "      <td>0.0</td>\n",
       "      <td>0.0</td>\n",
       "      <td>0.0</td>\n",
       "      <td>0.0</td>\n",
       "      <td>0.0</td>\n",
       "      <td>1.0</td>\n",
       "      <td>...</td>\n",
       "      <td>0</td>\n",
       "      <td>0</td>\n",
       "      <td>0</td>\n",
       "      <td>0</td>\n",
       "      <td>1</td>\n",
       "      <td>0</td>\n",
       "      <td>0</td>\n",
       "      <td>0.0</td>\n",
       "      <td>0.0</td>\n",
       "      <td>0.702098</td>\n",
       "    </tr>\n",
       "    <tr>\n",
       "      <th>...</th>\n",
       "      <td>...</td>\n",
       "      <td>...</td>\n",
       "      <td>...</td>\n",
       "      <td>...</td>\n",
       "      <td>...</td>\n",
       "      <td>...</td>\n",
       "      <td>...</td>\n",
       "      <td>...</td>\n",
       "      <td>...</td>\n",
       "      <td>...</td>\n",
       "      <td>...</td>\n",
       "      <td>...</td>\n",
       "      <td>...</td>\n",
       "      <td>...</td>\n",
       "      <td>...</td>\n",
       "      <td>...</td>\n",
       "      <td>...</td>\n",
       "      <td>...</td>\n",
       "      <td>...</td>\n",
       "      <td>...</td>\n",
       "      <td>...</td>\n",
       "    </tr>\n",
       "    <tr>\n",
       "      <th>896</th>\n",
       "      <td>23</td>\n",
       "      <td>0.0</td>\n",
       "      <td>0.0</td>\n",
       "      <td>0.0</td>\n",
       "      <td>0.0</td>\n",
       "      <td>0.0</td>\n",
       "      <td>0.0</td>\n",
       "      <td>0.0</td>\n",
       "      <td>1.0</td>\n",
       "      <td>0.0</td>\n",
       "      <td>...</td>\n",
       "      <td>0</td>\n",
       "      <td>0</td>\n",
       "      <td>0</td>\n",
       "      <td>0</td>\n",
       "      <td>1</td>\n",
       "      <td>0</td>\n",
       "      <td>0</td>\n",
       "      <td>0.0</td>\n",
       "      <td>0.0</td>\n",
       "      <td>1.404196</td>\n",
       "    </tr>\n",
       "    <tr>\n",
       "      <th>897</th>\n",
       "      <td>20</td>\n",
       "      <td>0.0</td>\n",
       "      <td>0.0</td>\n",
       "      <td>0.0</td>\n",
       "      <td>0.0</td>\n",
       "      <td>0.0</td>\n",
       "      <td>0.0</td>\n",
       "      <td>0.0</td>\n",
       "      <td>0.0</td>\n",
       "      <td>5.0</td>\n",
       "      <td>...</td>\n",
       "      <td>0</td>\n",
       "      <td>0</td>\n",
       "      <td>0</td>\n",
       "      <td>0</td>\n",
       "      <td>1</td>\n",
       "      <td>0</td>\n",
       "      <td>0</td>\n",
       "      <td>0.0</td>\n",
       "      <td>0.0</td>\n",
       "      <td>0.737203</td>\n",
       "    </tr>\n",
       "    <tr>\n",
       "      <th>899</th>\n",
       "      <td>2</td>\n",
       "      <td>0.0</td>\n",
       "      <td>0.0</td>\n",
       "      <td>0.0</td>\n",
       "      <td>0.0</td>\n",
       "      <td>0.0</td>\n",
       "      <td>0.0</td>\n",
       "      <td>0.0</td>\n",
       "      <td>0.0</td>\n",
       "      <td>0.0</td>\n",
       "      <td>...</td>\n",
       "      <td>0</td>\n",
       "      <td>0</td>\n",
       "      <td>0</td>\n",
       "      <td>0</td>\n",
       "      <td>1</td>\n",
       "      <td>0</td>\n",
       "      <td>0</td>\n",
       "      <td>0.0</td>\n",
       "      <td>0.0</td>\n",
       "      <td>1.053147</td>\n",
       "    </tr>\n",
       "    <tr>\n",
       "      <th>900</th>\n",
       "      <td>8</td>\n",
       "      <td>0.0</td>\n",
       "      <td>0.0</td>\n",
       "      <td>0.0</td>\n",
       "      <td>0.0</td>\n",
       "      <td>0.0</td>\n",
       "      <td>0.0</td>\n",
       "      <td>0.0</td>\n",
       "      <td>0.0</td>\n",
       "      <td>0.0</td>\n",
       "      <td>...</td>\n",
       "      <td>0</td>\n",
       "      <td>0</td>\n",
       "      <td>0</td>\n",
       "      <td>0</td>\n",
       "      <td>1</td>\n",
       "      <td>0</td>\n",
       "      <td>0</td>\n",
       "      <td>0.0</td>\n",
       "      <td>0.0</td>\n",
       "      <td>1.404196</td>\n",
       "    </tr>\n",
       "    <tr>\n",
       "      <th>901</th>\n",
       "      <td>6</td>\n",
       "      <td>0.0</td>\n",
       "      <td>0.0</td>\n",
       "      <td>0.0</td>\n",
       "      <td>0.0</td>\n",
       "      <td>0.0</td>\n",
       "      <td>0.0</td>\n",
       "      <td>0.0</td>\n",
       "      <td>0.0</td>\n",
       "      <td>0.0</td>\n",
       "      <td>...</td>\n",
       "      <td>0</td>\n",
       "      <td>0</td>\n",
       "      <td>0</td>\n",
       "      <td>0</td>\n",
       "      <td>1</td>\n",
       "      <td>0</td>\n",
       "      <td>0</td>\n",
       "      <td>0.0</td>\n",
       "      <td>0.0</td>\n",
       "      <td>1.228671</td>\n",
       "    </tr>\n",
       "  </tbody>\n",
       "</table>\n",
       "<p>836 rows × 27 columns</p>\n",
       "</div>"
      ],
      "text/plain": [
       "     no_of_votes  congrats_num  criticism_num  information_num  other_num  \\\n",
       "0             25           0.0            0.0              0.0        0.0   \n",
       "1             19           0.0            0.0              0.0        0.0   \n",
       "2             22           0.0            0.0              0.0        0.0   \n",
       "3              1           0.0            0.0              0.0        0.0   \n",
       "4             27           0.0            0.0              0.0        0.0   \n",
       "..           ...           ...            ...              ...        ...   \n",
       "896           23           0.0            0.0              0.0        0.0   \n",
       "897           20           0.0            0.0              0.0        0.0   \n",
       "899            2           0.0            0.0              0.0        0.0   \n",
       "900            8           0.0            0.0              0.0        0.0   \n",
       "901            6           0.0            0.0              0.0        0.0   \n",
       "\n",
       "     suggestion_num  total_likes  total_dislikes  congrats_agree_num  \\\n",
       "0               0.0          0.0             0.0                 7.0   \n",
       "1               0.0          0.0             0.0                 1.0   \n",
       "2               0.0          0.0             0.0                 0.0   \n",
       "3               0.0          0.0             0.0                 0.0   \n",
       "4               0.0          0.0             0.0                 0.0   \n",
       "..              ...          ...             ...                 ...   \n",
       "896             0.0          0.0             0.0                 1.0   \n",
       "897             0.0          0.0             0.0                 0.0   \n",
       "899             0.0          0.0             0.0                 0.0   \n",
       "900             0.0          0.0             0.0                 0.0   \n",
       "901             0.0          0.0             0.0                 0.0   \n",
       "\n",
       "     information_agree_num  ...  Ceuta  chicago  amsterdam  berlin  madrid  \\\n",
       "0                     28.0  ...      0        0          0       1       0   \n",
       "1                      4.0  ...      0        0          0       1       0   \n",
       "2                     23.0  ...      0        0          0       1       0   \n",
       "3                      0.0  ...      0        0          0       0       1   \n",
       "4                      1.0  ...      0        0          0       0       1   \n",
       "..                     ...  ...    ...      ...        ...     ...     ...   \n",
       "896                    0.0  ...      0        0          0       0       1   \n",
       "897                    5.0  ...      0        0          0       0       1   \n",
       "899                    0.0  ...      0        0          0       0       1   \n",
       "900                    0.0  ...      0        0          0       0       1   \n",
       "901                    0.0  ...      0        0          0       0       1   \n",
       "\n",
       "     moscow  Absence  likeability  total_num_of_feedback  relative_mean_score  \n",
       "0         0        0          0.0                    0.0             0.351049  \n",
       "1         0        0          0.0                    0.0             0.351049  \n",
       "2         0        0          0.0                    0.0             0.351049  \n",
       "3         0        0          0.0                    0.0             1.053147  \n",
       "4         0        0          0.0                    0.0             0.702098  \n",
       "..      ...      ...          ...                    ...                  ...  \n",
       "896       0        0          0.0                    0.0             1.404196  \n",
       "897       0        0          0.0                    0.0             0.737203  \n",
       "899       0        0          0.0                    0.0             1.053147  \n",
       "900       0        0          0.0                    0.0             1.404196  \n",
       "901       0        0          0.0                    0.0             1.228671  \n",
       "\n",
       "[836 rows x 27 columns]"
      ]
     },
     "execution_count": 387,
     "metadata": {},
     "output_type": "execute_result"
    }
   ],
   "source": [
    "# convert the dataframe into a proper Y-like dataframe, i.e. employee id - month - label\n",
    "Y_temp = pd.merge(emp_absen, temp2.rename(columns = {'num_days': 'ave_days'}), how = 'left')\n",
    "Y_temp['Absence'] = Y_temp['num_days'] > 20 # Y_temp['ave_days']    ## open to change the benchmarking here ##\n",
    "Y_2weeks = Y_temp[['employee', 'month', 'Absence']]\n",
    "Y.head()\n",
    "\n",
    "X1 = pd.merge(votes_X, commnet_X,  how = 'left')\n",
    "print(X1.shape)\n",
    "X = pd.merge(X1, inter_X, how = 'left')\n",
    "print(X.shape)\n",
    "final1 = pd.merge(X, Y_2weeks, how = 'left')\n",
    "print(final1.shape)\n",
    "final2 = pd.merge(final1, lastParticipationExists_v2, left_on = 'employee', right_on = 'employee',  how = 'left')\n",
    "print(final2.shape)\n",
    "final = final2.copy()\n",
    "\n",
    "final['Absence'].fillna('False', inplace = True)\n",
    "#final = final.drop(columns = ['employee', 'month'], axis = 1)\n",
    "final['Absence'] = [1 if i == True else 0 for i in final['Absence']]\n",
    "final = final[final['stillExists'] == True]\n",
    "\n",
    "final['total_likes'].value_counts()\n",
    "\n",
    "final['likeability'] = final['total_likes'] != 0\n",
    "final['likeability'] = final['likeability'].astype(int)\n",
    "final['likeability'] \n",
    "\n",
    "final.loc[final['total_likes']==0, 'likeability'] = 0 \n",
    "final.loc[final['total_likes']!=0, 'likeability'] = final['total_likes']/(final['total_likes'] + final['total_dislikes'])\n",
    "\n",
    "final['total_num_of_feedback'] = final['congrats_num'] + final['criticism_num'] + final['information_num'] + final['other_num'] + final['suggestion_num']\n",
    "final['total_num_of_feedback']\n",
    "\n",
    "final['relative_mean_score'] = final['mean_votes_score']/np.mean(final['mean_votes_score'])\n",
    "\n",
    "final = final[['no_of_votes', 'congrats_num', 'criticism_num', 'information_num', 'other_num',\n",
    "       'suggestion_num', 'total_likes', 'total_dislikes', 'congrats_agree_num', 'information_agree_num', 'other_agree_num', \n",
    "        'suggestion_agree_num', 'congrats_disagree_num', 'information_disagree_num', 'other_disagree_num', \n",
    "        'suggestion_disagree_num', 'deletedOn', 'Ceuta', 'chicago', 'amsterdam', 'berlin', 'madrid','moscow','Absence', \n",
    "               'likeability', 'total_num_of_feedback', 'relative_mean_score']]\n",
    "            \n",
    "final = final.fillna(0)\n",
    "final"
   ]
  },
  {
   "cell_type": "code",
   "execution_count": 388,
   "metadata": {},
   "outputs": [
    {
     "data": {
      "text/plain": [
       "0    0.952153\n",
       "1    0.047847\n",
       "Name: Absence, dtype: float64"
      ]
     },
     "execution_count": 388,
     "metadata": {},
     "output_type": "execute_result"
    }
   ],
   "source": [
    "#Class Imbalance\n",
    "final['Absence'].value_counts()/(final['Absence'].value_counts()[0] + final['Absence'].value_counts()[1])"
   ]
  },
  {
   "cell_type": "code",
   "execution_count": 389,
   "metadata": {},
   "outputs": [
    {
     "name": "stdout",
     "output_type": "stream",
     "text": [
      "Accuracy: 0.9163346613545816\n",
      "Recall: 0.14285714285714285\n",
      "Precision: 0.18181818181818182\n",
      "\n",
      " confussion matrix:\n",
      " [[228   9]\n",
      " [ 12   2]]\n"
     ]
    }
   ],
   "source": [
    "df = final.copy()\n",
    "\n",
    "X = final.drop(columns = ['Absence'], axis = 1)\n",
    "y = final['Absence']\n",
    "\n",
    "X_stand = scale(X)\n",
    "\n",
    "X_train, X_test, y_train, y_test = train_test_split(X_stand, y, test_size = 0.3, random_state = 0)\n",
    "X_test_df = pd.DataFrame(X_stand)\n",
    "X_test_df.columns = X.columns\n",
    "X_test_df\n",
    "\n",
    "oversample = RandomOverSampler(random_state=42, sampling_strategy=1)\n",
    "#oversample = SMOTE(random_state=42, sampling_strategy=0.1)\n",
    "X_res, y_res = oversample.fit_resample(X_train, y_train)\n",
    "\n",
    "clf=RandomForestClassifier()\n",
    "\n",
    "clf.fit(X_res, y_res)\n",
    "y_pred=clf.predict(X_test)\n",
    "\n",
    "print('Accuracy:', accuracy_score(y_test, y_pred))\n",
    "print('Recall:', recall_score(y_test, y_pred))\n",
    "print('Precision:', precision_score(y_test, y_pred))\n",
    "#print('\\n clasification report:\\n', classification_report(y_test,y_pred))\n",
    "print('\\n confussion matrix:\\n',confusion_matrix(y_test, y_pred))\n",
    "import shap\n",
    "explainer = shap.TreeExplainer(clf)\n",
    "#svm_explainer = shap.TreeExplainer(clf.predict,X_test)\n",
    "shap_values = explainer.shap_values(X_test)"
   ]
  },
  {
   "cell_type": "code",
   "execution_count": 390,
   "metadata": {},
   "outputs": [
    {
     "data": {
      "image/png": "[encoded data removed]",
      "text/plain": [
       "<Figure size 432x288 with 2 Axes>"
      ]
     },
     "metadata": {
      "needs_background": "light"
     },
     "output_type": "display_data"
    }
   ],
   "source": [
    "plot_confusion_matrix(clf, X_test, y_test) \n",
    "plt.xlabel('Predicted Abseentism')\n",
    "plt.ylabel('True Abseentism')\n",
    "plt.show()"
   ]
  },
  {
   "cell_type": "code",
   "execution_count": 391,
   "metadata": {},
   "outputs": [
    {
     "data": {
      "text/plain": [
       "Text(0.5, 0, 'Random Forest Feature Importance')"
      ]
     },
     "execution_count": 391,
     "metadata": {},
     "output_type": "execute_result"
    },
    {
     "data": {
      "image/png": "[encoded data removed]",
      "text/plain": [
       "<Figure size 720x720 with 1 Axes>"
      ]
     },
     "metadata": {
      "needs_background": "light"
     },
     "output_type": "display_data"
    }
   ],
   "source": [
    "clf.feature_importances_\n",
    "sorted_features = clf.feature_importances_.argsort()\n",
    "plt.figure(figsize=(10,10))\n",
    "plt.barh(X.columns[sorted_features],clf.feature_importances_[sorted_features])\n",
    "plt.xlabel(\"Random Forest Feature Importance\")"
   ]
  },
  {
   "cell_type": "code",
   "execution_count": 392,
   "metadata": {},
   "outputs": [
    {
     "data": {
      "image/png": "[encoded data removed]",
      "text/plain": [
       "<Figure size 576x684 with 1 Axes>"
      ]
     },
     "metadata": {
      "needs_background": "light"
     },
     "output_type": "display_data"
    }
   ],
   "source": [
    "shap.summary_plot(shap_values, X_test_df)"
   ]
  },
  {
   "cell_type": "code",
   "execution_count": 393,
   "metadata": {},
   "outputs": [
    {
     "name": "stdout",
     "output_type": "stream",
     "text": [
      "The Cross Validation Accuracy for Random Forest Model is  0.9498135398737807\n",
      "The Cross Validation Recall for Random Forest Model is  0.04\n",
      "The Cross Validation Recall for Random Forest Model is  0.2\n"
     ]
    }
   ],
   "source": [
    "# K fold cross validation\n",
    "RFModel=RandomForestClassifier()\n",
    "cv_method = KFold(n_splits = 10, shuffle = True, random_state = 2823)\n",
    "\n",
    "svm_acc = np.mean(cross_val_score(RFModel, X, y ,cv = cv_method, scoring = 'accuracy'))\n",
    "svm_recall = np.mean(cross_val_score(RFModel, X, y ,cv = cv_method, scoring = 'recall'))\n",
    "svm_precision = np.mean(cross_val_score(RFModel, X, y ,cv = cv_method, scoring = 'precision'))\n",
    "\n",
    "print('The Cross Validation Accuracy for Random Forest Model is ', svm_acc)\n",
    "print('The Cross Validation Recall for Random Forest Model is ', svm_recall)\n",
    "print('The Cross Validation Recall for Random Forest Model is ', svm_precision)"
   ]
  }
 ],
 "metadata": {
  "kernelspec": {
   "display_name": "Python 3",
   "language": "python",
   "name": "python3"
  },
  "language_info": {
   "codemirror_mode": {
    "name": "ipython",
    "version": 3
   },
   "file_extension": ".py",
   "mimetype": "text/x-python",
   "name": "python",
   "nbconvert_exporter": "python",
   "pygments_lexer": "ipython3",
   "version": "3.8.8"
  }
 },
 "nbformat": 4,
 "nbformat_minor": 4
}
